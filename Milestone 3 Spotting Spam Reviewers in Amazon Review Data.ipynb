{
 "cells": [
  {
   "cell_type": "markdown",
   "metadata": {},
   "source": [
    "\n",
    "![title](https://www.geek.com/wp-content/uploads/2018/07/amazon-625x352.jpg)"
   ]
  },
  {
   "cell_type": "markdown",
   "metadata": {},
   "source": [
    "# Detect Spam Reviewers on Amazon Datasets\n",
    "\n",
    "The widespread of the fake reviews in the online reviews system could be a problem for normal customers to make the right purchase decisions. Here we utilize the statistical model to study the behavioral patterns of spam reviewers and use clustering algorithms to distinguish the potential spam and normal reviewers. The case study on selected Amazon review dataset shows that there is a large proportion of spam reviewers in Amazon users and they may have a strong impact on the online reviews system.\n"
   ]
  },
  {
   "cell_type": "markdown",
   "metadata": {},
   "source": [
    "## Data Selection: Categories And Size\n",
    "For practical reason and limited storage, we would like to experiment with the selected categories data as follows (contains both reviews and the product metadata):\n",
    "\n",
    "- Home and Kitchen:\n",
    "  - Review data: 5-core, 551,682 reviews\n",
    "  - Metadata: 436,988 products\n",
    "\n",
    "In our research, those products and users that have only few reviews can not help us to find out the regulation of fake reviews therefore we only chose the dataset in which each of the reviewers and products have at least 5 reviews, called 5-core dataset.\n",
    "\n"
   ]
  },
  {
   "cell_type": "markdown",
   "metadata": {},
   "source": [
    "## Amazon Review Datasets Introduction\n",
    "\n",
    "This dataset contains product reviews and metadata from Amazon, including 142.8 million reviews spanning May 1996 - July 2014.\n",
    "\n",
    "This dataset includes reviews (ratings, text, helpfulness votes), product metadata (descriptions, category information, price, brand, and image features), and links (also viewed/also bought graphs).\n",
    "Link for amazon review datasets:http://jmcauley.ucsd.edu/data/amazon/links.html"
   ]
  },
  {
   "cell_type": "markdown",
   "metadata": {},
   "source": [
    "# Data Loading"
   ]
  },
  {
   "cell_type": "code",
   "execution_count": 125,
   "metadata": {},
   "outputs": [],
   "source": [
    "import pandas as pd\n",
    "import gzip\n",
    "import time \n",
    "import pickle\n",
    "import warnings\n",
    "import collections\n",
    "import numpy as np\n",
    "import seaborn as sns\n",
    "from mpl_toolkits.mplot3d import Axes3D\n",
    "from datetime import date\n",
    "from datetime import datetime\n",
    "import spacy\n",
    "from sklearn.cluster import KMeans\n",
    "from scipy.spatial import distance\n",
    "from sklearn.mixture import GaussianMixture\n",
    "import matplotlib.pyplot as plt\n",
    "%matplotlib inline\n",
    "sns.set(color_codes=True)\n",
    "warnings.filterwarnings('ignore')\n",
    "# load pretrained models\n",
    "nlp = spacy.load('en')\n",
    "# convert unixtimestamp\n",
    "f = datetime.utcfromtimestamp"
   ]
  },
  {
   "cell_type": "code",
   "execution_count": 2,
   "metadata": {},
   "outputs": [],
   "source": [
    "# define a function to load the data\n",
    "def parse(path):\n",
    "    g = gzip.open(path, 'rb')\n",
    "    for l in g:\n",
    "        yield eval(l)\n",
    "\n",
    "def getDF(path):\n",
    "    i = 0\n",
    "    df = {}\n",
    "    for d in parse(path):\n",
    "        df[i] = d\n",
    "        i += 1\n",
    "    return pd.DataFrame.from_dict(df, orient='index')\n",
    "\n",
    "getDF('reviews_Home_and_Kitchen.json.gz').to_csv('./home_reviews.csv')\n",
    "getDF('meta_Home_and_Kitchen.json.gz').to_csv('./home_meta.csv')"
   ]
  },
  {
   "cell_type": "code",
   "execution_count": 3,
   "metadata": {},
   "outputs": [],
   "source": [
    "# use the function above to load the data and saved as csv files that we can directly use\n",
    "\n",
    "#Home and Kitchen\n",
    "home_reviews_raw = pd.read_csv('./home_reviews.csv')\n",
    "home_meta_raw = pd.read_csv('./home_meta.csv')"
   ]
  },
  {
   "cell_type": "markdown",
   "metadata": {},
   "source": [
    "# Data Initial Observation"
   ]
  },
  {
   "cell_type": "markdown",
   "metadata": {},
   "source": [
    "#### Review Data:\n",
    "\n",
    "- reviewerID - ID of the reviewer, e.g. A2SUAM1J3GNN3B\n",
    "- asin - ID of the product, e.g. 0000013714\n",
    "- reviewerName - name of the reviewer\n",
    "- helpful - helpfulness rating of the review, e.g. 2/3\n",
    "- reviewText - text of the review\n",
    "- overall - rating of the product\n",
    "- summary - summary of the review\n",
    "- unixReviewTime - time of the review (unix time)\n",
    "- reviewTime - time of the review (raw)\n",
    "\n",
    "#### Meta Data:\n",
    "\n",
    "- asin - ID of the product, e.g. 0000031852\n",
    "- title - name of the product\n",
    "- price - price in US dollars (at time of crawl)\n",
    "- imUrl - url of the product image\n",
    "- related - related products (also bought, also viewed, bought together, buy after viewing)\n",
    "- salesRank - sales rank information\n",
    "- brand - brand name\n",
    "- categories - list of categories the product belongs to"
   ]
  },
  {
   "cell_type": "code",
   "execution_count": 4,
   "metadata": {},
   "outputs": [
    {
     "data": {
      "text/html": [
       "<div>\n",
       "<style scoped>\n",
       "    .dataframe tbody tr th:only-of-type {\n",
       "        vertical-align: middle;\n",
       "    }\n",
       "\n",
       "    .dataframe tbody tr th {\n",
       "        vertical-align: top;\n",
       "    }\n",
       "\n",
       "    .dataframe thead th {\n",
       "        text-align: right;\n",
       "    }\n",
       "</style>\n",
       "<table border=\"1\" class=\"dataframe\">\n",
       "  <thead>\n",
       "    <tr style=\"text-align: right;\">\n",
       "      <th></th>\n",
       "      <th>reviewerID</th>\n",
       "      <th>asin</th>\n",
       "      <th>reviewerName</th>\n",
       "      <th>helpful</th>\n",
       "      <th>reviewText</th>\n",
       "      <th>overall</th>\n",
       "      <th>summary</th>\n",
       "      <th>unixReviewTime</th>\n",
       "      <th>reviewTime</th>\n",
       "    </tr>\n",
       "  </thead>\n",
       "  <tbody>\n",
       "    <tr>\n",
       "      <th>0</th>\n",
       "      <td>APYOBQE6M18AA</td>\n",
       "      <td>0615391206</td>\n",
       "      <td>Martin Schwartz</td>\n",
       "      <td>[0, 0]</td>\n",
       "      <td>My daughter wanted this book and the price on ...</td>\n",
       "      <td>5.0</td>\n",
       "      <td>Best Price</td>\n",
       "      <td>1382140800</td>\n",
       "      <td>10 19, 2013</td>\n",
       "    </tr>\n",
       "    <tr>\n",
       "      <th>1</th>\n",
       "      <td>A1JVQTAGHYOL7F</td>\n",
       "      <td>0615391206</td>\n",
       "      <td>Michelle Dinh</td>\n",
       "      <td>[0, 0]</td>\n",
       "      <td>I bought this zoku quick pop for my daughterr ...</td>\n",
       "      <td>5.0</td>\n",
       "      <td>zoku</td>\n",
       "      <td>1403049600</td>\n",
       "      <td>06 18, 2014</td>\n",
       "    </tr>\n",
       "    <tr>\n",
       "      <th>2</th>\n",
       "      <td>A3UPYGJKZ0XTU4</td>\n",
       "      <td>0615391206</td>\n",
       "      <td>mirasreviews</td>\n",
       "      <td>[26, 27]</td>\n",
       "      <td>There is no shortage of pop recipes available ...</td>\n",
       "      <td>4.0</td>\n",
       "      <td>Excels at Sweet Dessert Pops, but Falls Short ...</td>\n",
       "      <td>1367712000</td>\n",
       "      <td>05 5, 2013</td>\n",
       "    </tr>\n",
       "    <tr>\n",
       "      <th>3</th>\n",
       "      <td>A2MHCTX43MIMDZ</td>\n",
       "      <td>0615391206</td>\n",
       "      <td>M. Johnson \"Tea Lover\"</td>\n",
       "      <td>[14, 18]</td>\n",
       "      <td>This book is a must have if you get a Zoku (wh...</td>\n",
       "      <td>5.0</td>\n",
       "      <td>Creative Combos</td>\n",
       "      <td>1312416000</td>\n",
       "      <td>08 4, 2011</td>\n",
       "    </tr>\n",
       "    <tr>\n",
       "      <th>4</th>\n",
       "      <td>AHAI85T5C2DH3</td>\n",
       "      <td>0615391206</td>\n",
       "      <td>PugLover</td>\n",
       "      <td>[0, 0]</td>\n",
       "      <td>This cookbook is great.  I have really enjoyed...</td>\n",
       "      <td>4.0</td>\n",
       "      <td>A must own if you own the Zoku maker...</td>\n",
       "      <td>1402099200</td>\n",
       "      <td>06 7, 2014</td>\n",
       "    </tr>\n",
       "  </tbody>\n",
       "</table>\n",
       "</div>"
      ],
      "text/plain": [
       "       reviewerID        asin            reviewerName   helpful  \\\n",
       "0   APYOBQE6M18AA  0615391206         Martin Schwartz    [0, 0]   \n",
       "1  A1JVQTAGHYOL7F  0615391206           Michelle Dinh    [0, 0]   \n",
       "2  A3UPYGJKZ0XTU4  0615391206            mirasreviews  [26, 27]   \n",
       "3  A2MHCTX43MIMDZ  0615391206  M. Johnson \"Tea Lover\"  [14, 18]   \n",
       "4   AHAI85T5C2DH3  0615391206                PugLover    [0, 0]   \n",
       "\n",
       "                                          reviewText  overall  \\\n",
       "0  My daughter wanted this book and the price on ...      5.0   \n",
       "1  I bought this zoku quick pop for my daughterr ...      5.0   \n",
       "2  There is no shortage of pop recipes available ...      4.0   \n",
       "3  This book is a must have if you get a Zoku (wh...      5.0   \n",
       "4  This cookbook is great.  I have really enjoyed...      4.0   \n",
       "\n",
       "                                             summary  unixReviewTime  \\\n",
       "0                                         Best Price      1382140800   \n",
       "1                                               zoku      1403049600   \n",
       "2  Excels at Sweet Dessert Pops, but Falls Short ...      1367712000   \n",
       "3                                    Creative Combos      1312416000   \n",
       "4            A must own if you own the Zoku maker...      1402099200   \n",
       "\n",
       "    reviewTime  \n",
       "0  10 19, 2013  \n",
       "1  06 18, 2014  \n",
       "2   05 5, 2013  \n",
       "3   08 4, 2011  \n",
       "4   06 7, 2014  "
      ]
     },
     "execution_count": 4,
     "metadata": {},
     "output_type": "execute_result"
    }
   ],
   "source": [
    "# Data Initial Observation\n",
    "home_reviews_raw.head(5)"
   ]
  },
  {
   "cell_type": "code",
   "execution_count": 5,
   "metadata": {},
   "outputs": [
    {
     "data": {
      "text/html": [
       "<div>\n",
       "<style scoped>\n",
       "    .dataframe tbody tr th:only-of-type {\n",
       "        vertical-align: middle;\n",
       "    }\n",
       "\n",
       "    .dataframe tbody tr th {\n",
       "        vertical-align: top;\n",
       "    }\n",
       "\n",
       "    .dataframe thead th {\n",
       "        text-align: right;\n",
       "    }\n",
       "</style>\n",
       "<table border=\"1\" class=\"dataframe\">\n",
       "  <thead>\n",
       "    <tr style=\"text-align: right;\">\n",
       "      <th></th>\n",
       "      <th>asin</th>\n",
       "      <th>salesRank</th>\n",
       "      <th>imUrl</th>\n",
       "      <th>categories</th>\n",
       "      <th>title</th>\n",
       "      <th>description</th>\n",
       "      <th>related</th>\n",
       "      <th>price</th>\n",
       "      <th>brand</th>\n",
       "    </tr>\n",
       "  </thead>\n",
       "  <tbody>\n",
       "    <tr>\n",
       "      <th>0</th>\n",
       "      <td>0076144011</td>\n",
       "      <td>{'Books': 6285595}</td>\n",
       "      <td>http://g-ecx.images-amazon.com/images/G/01/x-s...</td>\n",
       "      <td>[['Home &amp; Kitchen']]</td>\n",
       "      <td>Ninjas, Piranhas, and Galileo</td>\n",
       "      <td>NaN</td>\n",
       "      <td>NaN</td>\n",
       "      <td>NaN</td>\n",
       "      <td>NaN</td>\n",
       "    </tr>\n",
       "    <tr>\n",
       "      <th>1</th>\n",
       "      <td>0130350591</td>\n",
       "      <td>{'Kitchen &amp; Dining': 459680}</td>\n",
       "      <td>http://ecx.images-amazon.com/images/I/21zcx6RC...</td>\n",
       "      <td>[['Home &amp; Kitchen', 'Kitchen &amp; Dining', 'Dinin...</td>\n",
       "      <td>Le Creuset Kiwi (Green) Butter Dish Stoneware</td>\n",
       "      <td>Each piece of Le Creuset dinnerware is crafted...</td>\n",
       "      <td>NaN</td>\n",
       "      <td>NaN</td>\n",
       "      <td>NaN</td>\n",
       "    </tr>\n",
       "    <tr>\n",
       "      <th>2</th>\n",
       "      <td>0307394530</td>\n",
       "      <td>{'Arts, Crafts &amp; Sewing': 3597}</td>\n",
       "      <td>http://ecx.images-amazon.com/images/I/51A4FWuj...</td>\n",
       "      <td>[['Home &amp; Kitchen', 'Artwork', 'Posters &amp; Prin...</td>\n",
       "      <td>Martha Stewart's Wedding Cakes</td>\n",
       "      <td>Of all the decisions that go into planning a w...</td>\n",
       "      <td>{'also_bought': ['144630163X', '1402717733', '...</td>\n",
       "      <td>14.99</td>\n",
       "      <td>Random House</td>\n",
       "    </tr>\n",
       "    <tr>\n",
       "      <th>3</th>\n",
       "      <td>0439903491</td>\n",
       "      <td>{'Software': 7065}</td>\n",
       "      <td>http://ecx.images-amazon.com/images/I/61tVxcko...</td>\n",
       "      <td>[['Home &amp; Kitchen', 'Artwork', 'Posters &amp; Prin...</td>\n",
       "      <td>NaN</td>\n",
       "      <td>Shiver me timbers! Solve I SPY pirate picture ...</td>\n",
       "      <td>{'also_viewed': ['B000YFSZU8', 'B0016KWZB0', '...</td>\n",
       "      <td>29.99</td>\n",
       "      <td>NaN</td>\n",
       "    </tr>\n",
       "    <tr>\n",
       "      <th>4</th>\n",
       "      <td>0578060604</td>\n",
       "      <td>NaN</td>\n",
       "      <td>http://ecx.images-amazon.com/images/I/41aCELWJ...</td>\n",
       "      <td>[['Home &amp; Kitchen', 'Furniture', 'Kitchen &amp; Di...</td>\n",
       "      <td>Build A Maloof Inspired Low Back Dining Chair ...</td>\n",
       "      <td>The Maloofinspired Low Back Dining Chair is no...</td>\n",
       "      <td>{'also_viewed': ['B004IO6RS8']}</td>\n",
       "      <td>NaN</td>\n",
       "      <td>NaN</td>\n",
       "    </tr>\n",
       "  </tbody>\n",
       "</table>\n",
       "</div>"
      ],
      "text/plain": [
       "         asin                        salesRank  \\\n",
       "0  0076144011               {'Books': 6285595}   \n",
       "1  0130350591     {'Kitchen & Dining': 459680}   \n",
       "2  0307394530  {'Arts, Crafts & Sewing': 3597}   \n",
       "3  0439903491               {'Software': 7065}   \n",
       "4  0578060604                              NaN   \n",
       "\n",
       "                                               imUrl  \\\n",
       "0  http://g-ecx.images-amazon.com/images/G/01/x-s...   \n",
       "1  http://ecx.images-amazon.com/images/I/21zcx6RC...   \n",
       "2  http://ecx.images-amazon.com/images/I/51A4FWuj...   \n",
       "3  http://ecx.images-amazon.com/images/I/61tVxcko...   \n",
       "4  http://ecx.images-amazon.com/images/I/41aCELWJ...   \n",
       "\n",
       "                                          categories  \\\n",
       "0                               [['Home & Kitchen']]   \n",
       "1  [['Home & Kitchen', 'Kitchen & Dining', 'Dinin...   \n",
       "2  [['Home & Kitchen', 'Artwork', 'Posters & Prin...   \n",
       "3  [['Home & Kitchen', 'Artwork', 'Posters & Prin...   \n",
       "4  [['Home & Kitchen', 'Furniture', 'Kitchen & Di...   \n",
       "\n",
       "                                               title  \\\n",
       "0                      Ninjas, Piranhas, and Galileo   \n",
       "1      Le Creuset Kiwi (Green) Butter Dish Stoneware   \n",
       "2                     Martha Stewart's Wedding Cakes   \n",
       "3                                                NaN   \n",
       "4  Build A Maloof Inspired Low Back Dining Chair ...   \n",
       "\n",
       "                                         description  \\\n",
       "0                                                NaN   \n",
       "1  Each piece of Le Creuset dinnerware is crafted...   \n",
       "2  Of all the decisions that go into planning a w...   \n",
       "3  Shiver me timbers! Solve I SPY pirate picture ...   \n",
       "4  The Maloofinspired Low Back Dining Chair is no...   \n",
       "\n",
       "                                             related  price         brand  \n",
       "0                                                NaN    NaN           NaN  \n",
       "1                                                NaN    NaN           NaN  \n",
       "2  {'also_bought': ['144630163X', '1402717733', '...  14.99  Random House  \n",
       "3  {'also_viewed': ['B000YFSZU8', 'B0016KWZB0', '...  29.99           NaN  \n",
       "4                    {'also_viewed': ['B004IO6RS8']}    NaN           NaN  "
      ]
     },
     "execution_count": 5,
     "metadata": {},
     "output_type": "execute_result"
    }
   ],
   "source": [
    "home_meta_raw.head(5)"
   ]
  },
  {
   "cell_type": "markdown",
   "metadata": {},
   "source": [
    "<div class=\"alert alert-block alert-warning\">\n",
    "<font color='#B8860B'>\n",
    "<b>Observation Description</b><br>\n",
    "</font>\n",
    "<font color='black'>\n",
    "In reviews data, there are several features that we found useful in our further study like reviewerID, asin(products ID),helpful(reviews helpfulness), overall(rate given out by reiewers), unixReviewTime,reviewTime(the time of the reviews come out).<br>\n",
    "In meta data,the features like brand seems useful. Noted that there are some missing values in brand that need further processing in 'brand' column.<br>\n",
    "    \n",
    "</font>\n",
    "</div>"
   ]
  },
  {
   "cell_type": "code",
   "execution_count": 7,
   "metadata": {},
   "outputs": [
    {
     "name": "stdout",
     "output_type": "stream",
     "text": [
      "The Percentage Of Number Of The NaN In Brand Column : 65.5118676027717 %\n"
     ]
    }
   ],
   "source": [
    "# for home and kitchen products\n",
    "print('The Percentage Of Number Of The NaN In Brand Column :',home_meta_raw.brand.isna().sum()/home_meta_raw.shape[0]* 100,'%')"
   ]
  },
  {
   "cell_type": "markdown",
   "metadata": {},
   "source": [
    "<div class=\"alert alert-block alert-warning\">\n",
    "<font color='#B8860B'>\n",
    "<b>Observation about brand</b><br>\n",
    "</font>\n",
    "<font color='black'>\n",
    "We observe that many reviews don't have brands. Therefore, we double check the percentage of missing brand reviews.<br>\n",
    "    After caclulation of the protion of the NaN in brand column, we found that a large percentage of the reviews data don't have brand information. Therefore, we decide not to use this feature for now. But it's a good feature for the spam reviewers analysis because it's reasonable to infer that spam reviewers have a bias attitude towards brands.<br>\n",
    "    We WILL use this information latter. (Link to our analysis.)\n",
    "    \n",
    "</font>\n",
    "</div>"
   ]
  },
  {
   "cell_type": "markdown",
   "metadata": {},
   "source": [
    "# Data Wrangling"
   ]
  },
  {
   "cell_type": "markdown",
   "metadata": {},
   "source": [
    "## Drop irrelevant features"
   ]
  },
  {
   "cell_type": "code",
   "execution_count": 21,
   "metadata": {},
   "outputs": [],
   "source": [
    "#drop those irrelevant features to save space\n",
    "home_reviews=home_reviews_raw.drop(columns=['summary','reviewerName','reviewTime'])"
   ]
  },
  {
   "cell_type": "code",
   "execution_count": 22,
   "metadata": {},
   "outputs": [
    {
     "data": {
      "text/html": [
       "<div>\n",
       "<style scoped>\n",
       "    .dataframe tbody tr th:only-of-type {\n",
       "        vertical-align: middle;\n",
       "    }\n",
       "\n",
       "    .dataframe tbody tr th {\n",
       "        vertical-align: top;\n",
       "    }\n",
       "\n",
       "    .dataframe thead th {\n",
       "        text-align: right;\n",
       "    }\n",
       "</style>\n",
       "<table border=\"1\" class=\"dataframe\">\n",
       "  <thead>\n",
       "    <tr style=\"text-align: right;\">\n",
       "      <th></th>\n",
       "      <th>reviewerID</th>\n",
       "      <th>asin</th>\n",
       "      <th>helpful</th>\n",
       "      <th>reviewText</th>\n",
       "      <th>overall</th>\n",
       "      <th>unixReviewTime</th>\n",
       "    </tr>\n",
       "  </thead>\n",
       "  <tbody>\n",
       "    <tr>\n",
       "      <th>0</th>\n",
       "      <td>APYOBQE6M18AA</td>\n",
       "      <td>0615391206</td>\n",
       "      <td>[0, 0]</td>\n",
       "      <td>My daughter wanted this book and the price on ...</td>\n",
       "      <td>5.0</td>\n",
       "      <td>1382140800</td>\n",
       "    </tr>\n",
       "    <tr>\n",
       "      <th>1</th>\n",
       "      <td>A1JVQTAGHYOL7F</td>\n",
       "      <td>0615391206</td>\n",
       "      <td>[0, 0]</td>\n",
       "      <td>I bought this zoku quick pop for my daughterr ...</td>\n",
       "      <td>5.0</td>\n",
       "      <td>1403049600</td>\n",
       "    </tr>\n",
       "    <tr>\n",
       "      <th>2</th>\n",
       "      <td>A3UPYGJKZ0XTU4</td>\n",
       "      <td>0615391206</td>\n",
       "      <td>[26, 27]</td>\n",
       "      <td>There is no shortage of pop recipes available ...</td>\n",
       "      <td>4.0</td>\n",
       "      <td>1367712000</td>\n",
       "    </tr>\n",
       "    <tr>\n",
       "      <th>3</th>\n",
       "      <td>A2MHCTX43MIMDZ</td>\n",
       "      <td>0615391206</td>\n",
       "      <td>[14, 18]</td>\n",
       "      <td>This book is a must have if you get a Zoku (wh...</td>\n",
       "      <td>5.0</td>\n",
       "      <td>1312416000</td>\n",
       "    </tr>\n",
       "    <tr>\n",
       "      <th>4</th>\n",
       "      <td>AHAI85T5C2DH3</td>\n",
       "      <td>0615391206</td>\n",
       "      <td>[0, 0]</td>\n",
       "      <td>This cookbook is great.  I have really enjoyed...</td>\n",
       "      <td>4.0</td>\n",
       "      <td>1402099200</td>\n",
       "    </tr>\n",
       "  </tbody>\n",
       "</table>\n",
       "</div>"
      ],
      "text/plain": [
       "       reviewerID        asin   helpful  \\\n",
       "0   APYOBQE6M18AA  0615391206    [0, 0]   \n",
       "1  A1JVQTAGHYOL7F  0615391206    [0, 0]   \n",
       "2  A3UPYGJKZ0XTU4  0615391206  [26, 27]   \n",
       "3  A2MHCTX43MIMDZ  0615391206  [14, 18]   \n",
       "4   AHAI85T5C2DH3  0615391206    [0, 0]   \n",
       "\n",
       "                                          reviewText  overall  unixReviewTime  \n",
       "0  My daughter wanted this book and the price on ...      5.0      1382140800  \n",
       "1  I bought this zoku quick pop for my daughterr ...      5.0      1403049600  \n",
       "2  There is no shortage of pop recipes available ...      4.0      1367712000  \n",
       "3  This book is a must have if you get a Zoku (wh...      5.0      1312416000  \n",
       "4  This cookbook is great.  I have really enjoyed...      4.0      1402099200  "
      ]
     },
     "execution_count": 22,
     "metadata": {},
     "output_type": "execute_result"
    }
   ],
   "source": [
    "home_reviews.head(5)"
   ]
  },
  {
   "cell_type": "code",
   "execution_count": 23,
   "metadata": {},
   "outputs": [
    {
     "name": "stdout",
     "output_type": "stream",
     "text": [
      "Size of the data:  (551682, 6)\n"
     ]
    }
   ],
   "source": [
    "print(\"Size of the data: \", home_reviews.shape)"
   ]
  },
  {
   "cell_type": "markdown",
   "metadata": {},
   "source": [
    "## Search for missing values"
   ]
  },
  {
   "cell_type": "code",
   "execution_count": 24,
   "metadata": {},
   "outputs": [
    {
     "data": {
      "text/plain": [
       "reviewerID          0\n",
       "asin                0\n",
       "helpful             0\n",
       "reviewText        216\n",
       "overall             0\n",
       "unixReviewTime      0\n",
       "dtype: int64"
      ]
     },
     "execution_count": 24,
     "metadata": {},
     "output_type": "execute_result"
    }
   ],
   "source": [
    "#check for missing values.\n",
    "home_reviews.isna().sum()"
   ]
  },
  {
   "cell_type": "code",
   "execution_count": 25,
   "metadata": {},
   "outputs": [
    {
     "data": {
      "text/html": [
       "<div>\n",
       "<style scoped>\n",
       "    .dataframe tbody tr th:only-of-type {\n",
       "        vertical-align: middle;\n",
       "    }\n",
       "\n",
       "    .dataframe tbody tr th {\n",
       "        vertical-align: top;\n",
       "    }\n",
       "\n",
       "    .dataframe thead th {\n",
       "        text-align: right;\n",
       "    }\n",
       "</style>\n",
       "<table border=\"1\" class=\"dataframe\">\n",
       "  <thead>\n",
       "    <tr style=\"text-align: right;\">\n",
       "      <th></th>\n",
       "      <th>reviewerID</th>\n",
       "      <th>asin</th>\n",
       "      <th>helpful</th>\n",
       "      <th>reviewText</th>\n",
       "      <th>overall</th>\n",
       "      <th>unixReviewTime</th>\n",
       "    </tr>\n",
       "  </thead>\n",
       "  <tbody>\n",
       "    <tr>\n",
       "      <th>0</th>\n",
       "      <td>APYOBQE6M18AA</td>\n",
       "      <td>0615391206</td>\n",
       "      <td>[0, 0]</td>\n",
       "      <td>My daughter wanted this book and the price on ...</td>\n",
       "      <td>5.0</td>\n",
       "      <td>1382140800</td>\n",
       "    </tr>\n",
       "    <tr>\n",
       "      <th>1</th>\n",
       "      <td>A1JVQTAGHYOL7F</td>\n",
       "      <td>0615391206</td>\n",
       "      <td>[0, 0]</td>\n",
       "      <td>I bought this zoku quick pop for my daughterr ...</td>\n",
       "      <td>5.0</td>\n",
       "      <td>1403049600</td>\n",
       "    </tr>\n",
       "    <tr>\n",
       "      <th>2</th>\n",
       "      <td>A3UPYGJKZ0XTU4</td>\n",
       "      <td>0615391206</td>\n",
       "      <td>[26, 27]</td>\n",
       "      <td>There is no shortage of pop recipes available ...</td>\n",
       "      <td>4.0</td>\n",
       "      <td>1367712000</td>\n",
       "    </tr>\n",
       "    <tr>\n",
       "      <th>3</th>\n",
       "      <td>A2MHCTX43MIMDZ</td>\n",
       "      <td>0615391206</td>\n",
       "      <td>[14, 18]</td>\n",
       "      <td>This book is a must have if you get a Zoku (wh...</td>\n",
       "      <td>5.0</td>\n",
       "      <td>1312416000</td>\n",
       "    </tr>\n",
       "    <tr>\n",
       "      <th>4</th>\n",
       "      <td>AHAI85T5C2DH3</td>\n",
       "      <td>0615391206</td>\n",
       "      <td>[0, 0]</td>\n",
       "      <td>This cookbook is great.  I have really enjoyed...</td>\n",
       "      <td>4.0</td>\n",
       "      <td>1402099200</td>\n",
       "    </tr>\n",
       "  </tbody>\n",
       "</table>\n",
       "</div>"
      ],
      "text/plain": [
       "       reviewerID        asin   helpful  \\\n",
       "0   APYOBQE6M18AA  0615391206    [0, 0]   \n",
       "1  A1JVQTAGHYOL7F  0615391206    [0, 0]   \n",
       "2  A3UPYGJKZ0XTU4  0615391206  [26, 27]   \n",
       "3  A2MHCTX43MIMDZ  0615391206  [14, 18]   \n",
       "4   AHAI85T5C2DH3  0615391206    [0, 0]   \n",
       "\n",
       "                                          reviewText  overall  unixReviewTime  \n",
       "0  My daughter wanted this book and the price on ...      5.0      1382140800  \n",
       "1  I bought this zoku quick pop for my daughterr ...      5.0      1403049600  \n",
       "2  There is no shortage of pop recipes available ...      4.0      1367712000  \n",
       "3  This book is a must have if you get a Zoku (wh...      5.0      1312416000  \n",
       "4  This cookbook is great.  I have really enjoyed...      4.0      1402099200  "
      ]
     },
     "execution_count": 25,
     "metadata": {},
     "output_type": "execute_result"
    }
   ],
   "source": [
    "#drop missing value\n",
    "home_reviews.dropna(inplace=True)\n",
    "home_reviews.head()"
   ]
  },
  {
   "cell_type": "code",
   "execution_count": 26,
   "metadata": {},
   "outputs": [
    {
     "data": {
      "text/plain": [
       "reviewerID        0\n",
       "asin              0\n",
       "helpful           0\n",
       "reviewText        0\n",
       "overall           0\n",
       "unixReviewTime    0\n",
       "dtype: int64"
      ]
     },
     "execution_count": 26,
     "metadata": {},
     "output_type": "execute_result"
    }
   ],
   "source": [
    "#check for missing values again\n",
    "home_reviews.isna().sum()"
   ]
  },
  {
   "cell_type": "markdown",
   "metadata": {},
   "source": [
    "## Search for impossible values : Check the range of its columns values"
   ]
  },
  {
   "cell_type": "code",
   "execution_count": 27,
   "metadata": {},
   "outputs": [
    {
     "data": {
      "text/html": [
       "<div>\n",
       "<style scoped>\n",
       "    .dataframe tbody tr th:only-of-type {\n",
       "        vertical-align: middle;\n",
       "    }\n",
       "\n",
       "    .dataframe tbody tr th {\n",
       "        vertical-align: top;\n",
       "    }\n",
       "\n",
       "    .dataframe thead th {\n",
       "        text-align: right;\n",
       "    }\n",
       "</style>\n",
       "<table border=\"1\" class=\"dataframe\">\n",
       "  <thead>\n",
       "    <tr style=\"text-align: right;\">\n",
       "      <th></th>\n",
       "      <th>overall</th>\n",
       "      <th>unixReviewTime</th>\n",
       "    </tr>\n",
       "  </thead>\n",
       "  <tbody>\n",
       "    <tr>\n",
       "      <th>count</th>\n",
       "      <td>551466.000000</td>\n",
       "      <td>5.514660e+05</td>\n",
       "    </tr>\n",
       "    <tr>\n",
       "      <th>mean</th>\n",
       "      <td>4.316801</td>\n",
       "      <td>1.348691e+09</td>\n",
       "    </tr>\n",
       "    <tr>\n",
       "      <th>std</th>\n",
       "      <td>1.110559</td>\n",
       "      <td>6.120426e+07</td>\n",
       "    </tr>\n",
       "    <tr>\n",
       "      <th>min</th>\n",
       "      <td>1.000000</td>\n",
       "      <td>9.572256e+08</td>\n",
       "    </tr>\n",
       "    <tr>\n",
       "      <th>25%</th>\n",
       "      <td>4.000000</td>\n",
       "      <td>1.331770e+09</td>\n",
       "    </tr>\n",
       "    <tr>\n",
       "      <th>50%</th>\n",
       "      <td>5.000000</td>\n",
       "      <td>1.367626e+09</td>\n",
       "    </tr>\n",
       "    <tr>\n",
       "      <th>75%</th>\n",
       "      <td>5.000000</td>\n",
       "      <td>1.388880e+09</td>\n",
       "    </tr>\n",
       "    <tr>\n",
       "      <th>max</th>\n",
       "      <td>5.000000</td>\n",
       "      <td>1.406074e+09</td>\n",
       "    </tr>\n",
       "  </tbody>\n",
       "</table>\n",
       "</div>"
      ],
      "text/plain": [
       "             overall  unixReviewTime\n",
       "count  551466.000000    5.514660e+05\n",
       "mean        4.316801    1.348691e+09\n",
       "std         1.110559    6.120426e+07\n",
       "min         1.000000    9.572256e+08\n",
       "25%         4.000000    1.331770e+09\n",
       "50%         5.000000    1.367626e+09\n",
       "75%         5.000000    1.388880e+09\n",
       "max         5.000000    1.406074e+09"
      ]
     },
     "execution_count": 27,
     "metadata": {},
     "output_type": "execute_result"
    }
   ],
   "source": [
    "# for home and kitchen products\n",
    "home_reviews.describe()"
   ]
  },
  {
   "cell_type": "markdown",
   "metadata": {},
   "source": [
    "<div class=\"alert alert-block alert-warning\">\n",
    "<font color='#B8860B'>\n",
    "<b>Observation Description</b><br>\n",
    "</font>\n",
    "<font color='black'>\n",
    "No impossible values in overall rates were found.<br>\n",
    "    \n",
    "</font>\n",
    "</div>"
   ]
  },
  {
   "cell_type": "markdown",
   "metadata": {},
   "source": [
    "## Data Deeper Observation"
   ]
  },
  {
   "cell_type": "code",
   "execution_count": 28,
   "metadata": {},
   "outputs": [],
   "source": [
    "# Distribution of number of the reviews of the products  \n",
    "def distribution_products_reviews(df):\n",
    "    df_num = df.groupby('asin').count().sort_values(by='reviewerID',ascending = False)\n",
    "    # display the distribution\n",
    "    plt.figure(figsize=(8,5))\n",
    "    ax = sns.distplot(df_num['reviewerID'],kde=False, rug=False,hist_kws={'log':True})\n",
    "    ax.set_xlabel('Larger Range Of Reviews Number')\n",
    "    ax.set_ylabel('Number')\n",
    "    \n",
    "    plt.figure(figsize=(8,5))\n",
    "    df_num100 = df_num[df_num['reviewerID']<100]\n",
    "    ax = sns.distplot(df_num100['reviewerID'],kde=False, rug=False,hist_kws={'log':True})\n",
    "    ax.set_xlabel('Smaller Range Of Reviews Number')\n",
    "    ax.set_ylabel('Number')"
   ]
  },
  {
   "cell_type": "code",
   "execution_count": 29,
   "metadata": {},
   "outputs": [
    {
     "data": {
      "image/png": "[encoded data removed]",
      "text/plain": [
       "<Figure size 576x360 with 1 Axes>"
      ]
     },
     "metadata": {
      "needs_background": "light"
     },
     "output_type": "display_data"
    },
    {
     "data": {
      "image/png": "[encoded data removed]",
      "text/plain": [
       "<Figure size 576x360 with 1 Axes>"
      ]
     },
     "metadata": {
      "needs_background": "light"
     },
     "output_type": "display_data"
    }
   ],
   "source": [
    "# for home and kitchen products\n",
    "distribution_products_reviews(home_reviews)"
   ]
  },
  {
   "cell_type": "markdown",
   "metadata": {},
   "source": [
    "<div class=\"alert alert-block alert-warning\">\n",
    "<font color='#B8860B'>\n",
    "<b>Observation Description</b><br>\n",
    "</font>\n",
    "<font color='black'>\n",
    "In home and kitchen category, most of the products have fewer than 20 reviews.<br>\n",
    "    \n",
    "</font>\n",
    "</div>"
   ]
  },
  {
   "cell_type": "code",
   "execution_count": 30,
   "metadata": {},
   "outputs": [],
   "source": [
    "# Distribution of number of the reviews of the users  \n",
    "def distribution_users_reviews(df):\n",
    "    df_num = df.groupby('reviewerID').count().sort_values(by='asin',ascending = False)\n",
    "    \n",
    "    # display the distribution\n",
    "    plt.figure(figsize=(8,5))\n",
    "    ax = sns.distplot(df_num['asin'],kde=False, rug=False,hist_kws={'log':True})\n",
    "    ax.set_xlabel('Larger Range Of Reviews Number')\n",
    "    ax.set_ylabel('Number')\n",
    "    \n",
    "    plt.figure(figsize=(8,5))\n",
    "    df_num100 = df_num[df_num['asin']<100]\n",
    "    ax = sns.distplot(df_num100['asin'],kde=False, rug=False,hist_kws={'log':True})\n",
    "    ax.set_xlabel('Smaller Range Of Reviews Number')\n",
    "    ax.set_ylabel('Number')"
   ]
  },
  {
   "cell_type": "code",
   "execution_count": 31,
   "metadata": {},
   "outputs": [
    {
     "data": {
      "image/png": "[encoded data removed]",
      "text/plain": [
       "<Figure size 576x360 with 1 Axes>"
      ]
     },
     "metadata": {
      "needs_background": "light"
     },
     "output_type": "display_data"
    },
    {
     "data": {
      "image/png": "[encoded data removed]",
      "text/plain": [
       "<Figure size 576x360 with 1 Axes>"
      ]
     },
     "metadata": {
      "needs_background": "light"
     },
     "output_type": "display_data"
    }
   ],
   "source": [
    "# for home and kitchen products\n",
    "distribution_users_reviews(home_reviews)"
   ]
  },
  {
   "cell_type": "markdown",
   "metadata": {},
   "source": [
    "<div class=\"alert alert-block alert-warning\">\n",
    "<font color='#B8860B'>\n",
    "<b>Observation Description</b><br>\n",
    "</font>\n",
    "<font color='black'>\n",
    "In home and kitchen category, most of the users have fewer than 20 reviews.<br>\n",
    "    \n",
    "</font>\n",
    "</div>"
   ]
  },
  {
   "cell_type": "code",
   "execution_count": 32,
   "metadata": {
    "scrolled": true
   },
   "outputs": [
    {
     "data": {
      "text/html": [
       "<div>\n",
       "<style scoped>\n",
       "    .dataframe tbody tr th:only-of-type {\n",
       "        vertical-align: middle;\n",
       "    }\n",
       "\n",
       "    .dataframe tbody tr th {\n",
       "        vertical-align: top;\n",
       "    }\n",
       "\n",
       "    .dataframe thead th {\n",
       "        text-align: right;\n",
       "    }\n",
       "</style>\n",
       "<table border=\"1\" class=\"dataframe\">\n",
       "  <thead>\n",
       "    <tr style=\"text-align: right;\">\n",
       "      <th></th>\n",
       "      <th>reviewerID</th>\n",
       "      <th>helpful</th>\n",
       "      <th>reviewText</th>\n",
       "      <th>overall</th>\n",
       "      <th>unixReviewTime</th>\n",
       "    </tr>\n",
       "    <tr>\n",
       "      <th>asin</th>\n",
       "      <th></th>\n",
       "      <th></th>\n",
       "      <th></th>\n",
       "      <th></th>\n",
       "      <th></th>\n",
       "    </tr>\n",
       "  </thead>\n",
       "  <tbody>\n",
       "    <tr>\n",
       "      <th>B00006JSUA</th>\n",
       "      <td>1064</td>\n",
       "      <td>1064</td>\n",
       "      <td>1064</td>\n",
       "      <td>1064</td>\n",
       "      <td>1064</td>\n",
       "    </tr>\n",
       "    <tr>\n",
       "      <th>B001N07KUE</th>\n",
       "      <td>921</td>\n",
       "      <td>921</td>\n",
       "      <td>921</td>\n",
       "      <td>921</td>\n",
       "      <td>921</td>\n",
       "    </tr>\n",
       "    <tr>\n",
       "      <th>B00006IUWA</th>\n",
       "      <td>661</td>\n",
       "      <td>661</td>\n",
       "      <td>661</td>\n",
       "      <td>661</td>\n",
       "      <td>661</td>\n",
       "    </tr>\n",
       "    <tr>\n",
       "      <th>B00005B8K5</th>\n",
       "      <td>656</td>\n",
       "      <td>656</td>\n",
       "      <td>656</td>\n",
       "      <td>656</td>\n",
       "      <td>656</td>\n",
       "    </tr>\n",
       "    <tr>\n",
       "      <th>B000QFDNP8</th>\n",
       "      <td>634</td>\n",
       "      <td>634</td>\n",
       "      <td>634</td>\n",
       "      <td>634</td>\n",
       "      <td>634</td>\n",
       "    </tr>\n",
       "  </tbody>\n",
       "</table>\n",
       "</div>"
      ],
      "text/plain": [
       "            reviewerID  helpful  reviewText  overall  unixReviewTime\n",
       "asin                                                                \n",
       "B00006JSUA        1064     1064        1064     1064            1064\n",
       "B001N07KUE         921      921         921      921             921\n",
       "B00006IUWA         661      661         661      661             661\n",
       "B00005B8K5         656      656         656      656             656\n",
       "B000QFDNP8         634      634         634      634             634"
      ]
     },
     "execution_count": 32,
     "metadata": {},
     "output_type": "execute_result"
    }
   ],
   "source": [
    "# Distribution of ratings of the item that have largest number of reviews\n",
    "\n",
    "# for home and kitchen products\n",
    "home_reviews_num = home_reviews.groupby('asin').count().sort_values(by='reviewerID',ascending = False)\n",
    "home_reviews_num.head(5)"
   ]
  },
  {
   "cell_type": "code",
   "execution_count": 33,
   "metadata": {},
   "outputs": [
    {
     "data": {
      "text/plain": [
       "Text(0.5,1,'The Distribution Of Reviews Of One Products')"
      ]
     },
     "execution_count": 33,
     "metadata": {},
     "output_type": "execute_result"
    },
    {
     "data": {
      "image/png": "[encoded data removed]",
      "text/plain": [
       "<Figure size 432x288 with 1 Axes>"
      ]
     },
     "metadata": {
      "needs_background": "light"
     },
     "output_type": "display_data"
    }
   ],
   "source": [
    "# visualize the distribution of ratings of the item that have largest number of reviews\n",
    "sns.distplot(home_reviews[home_reviews.asin=='B00006JSUA'].overall,kde=False, rug=False)\n",
    "plt.title('The Distribution Of Reviews Of One Products')"
   ]
  },
  {
   "cell_type": "markdown",
   "metadata": {},
   "source": [
    "<div class=\"alert alert-block alert-warning\">\n",
    "<font color='#B8860B'>\n",
    "<b>Observation Description</b><br>\n",
    "</font>\n",
    "<font color='black'>\n",
    "As we can see from the figure above, the distributions of the reviews for the popular products reveals that most of the reviews gave out 5 stars rates.<br>\n",
    "    \n",
    "</font>\n",
    "</div>"
   ]
  },
  {
   "cell_type": "markdown",
   "metadata": {},
   "source": [
    "### Distribution of ratings from the users that wrote the largest number of reviews"
   ]
  },
  {
   "cell_type": "code",
   "execution_count": 34,
   "metadata": {},
   "outputs": [
    {
     "data": {
      "text/html": [
       "<div>\n",
       "<style scoped>\n",
       "    .dataframe tbody tr th:only-of-type {\n",
       "        vertical-align: middle;\n",
       "    }\n",
       "\n",
       "    .dataframe tbody tr th {\n",
       "        vertical-align: top;\n",
       "    }\n",
       "\n",
       "    .dataframe thead th {\n",
       "        text-align: right;\n",
       "    }\n",
       "</style>\n",
       "<table border=\"1\" class=\"dataframe\">\n",
       "  <thead>\n",
       "    <tr style=\"text-align: right;\">\n",
       "      <th></th>\n",
       "      <th>asin</th>\n",
       "      <th>helpful</th>\n",
       "      <th>reviewText</th>\n",
       "      <th>overall</th>\n",
       "      <th>unixReviewTime</th>\n",
       "    </tr>\n",
       "    <tr>\n",
       "      <th>reviewerID</th>\n",
       "      <th></th>\n",
       "      <th></th>\n",
       "      <th></th>\n",
       "      <th></th>\n",
       "      <th></th>\n",
       "    </tr>\n",
       "  </thead>\n",
       "  <tbody>\n",
       "    <tr>\n",
       "      <th>A1IU7S4HCK1XK0</th>\n",
       "      <td>277</td>\n",
       "      <td>277</td>\n",
       "      <td>277</td>\n",
       "      <td>277</td>\n",
       "      <td>277</td>\n",
       "    </tr>\n",
       "    <tr>\n",
       "      <th>A25C2M3QF9G7OQ</th>\n",
       "      <td>227</td>\n",
       "      <td>227</td>\n",
       "      <td>227</td>\n",
       "      <td>227</td>\n",
       "      <td>227</td>\n",
       "    </tr>\n",
       "    <tr>\n",
       "      <th>A2ZY49IDE6TY5I</th>\n",
       "      <td>216</td>\n",
       "      <td>216</td>\n",
       "      <td>216</td>\n",
       "      <td>216</td>\n",
       "      <td>216</td>\n",
       "    </tr>\n",
       "    <tr>\n",
       "      <th>A2NYK9KWFMJV4Y</th>\n",
       "      <td>184</td>\n",
       "      <td>184</td>\n",
       "      <td>184</td>\n",
       "      <td>184</td>\n",
       "      <td>184</td>\n",
       "    </tr>\n",
       "    <tr>\n",
       "      <th>A1W415JP5WEAJK</th>\n",
       "      <td>177</td>\n",
       "      <td>177</td>\n",
       "      <td>177</td>\n",
       "      <td>177</td>\n",
       "      <td>177</td>\n",
       "    </tr>\n",
       "  </tbody>\n",
       "</table>\n",
       "</div>"
      ],
      "text/plain": [
       "                asin  helpful  reviewText  overall  unixReviewTime\n",
       "reviewerID                                                        \n",
       "A1IU7S4HCK1XK0   277      277         277      277             277\n",
       "A25C2M3QF9G7OQ   227      227         227      227             227\n",
       "A2ZY49IDE6TY5I   216      216         216      216             216\n",
       "A2NYK9KWFMJV4Y   184      184         184      184             184\n",
       "A1W415JP5WEAJK   177      177         177      177             177"
      ]
     },
     "execution_count": 34,
     "metadata": {},
     "output_type": "execute_result"
    }
   ],
   "source": [
    "# Distribution of ratings from the users that wrote the largest number of reviews\n",
    "\n",
    "# for home and kitchen products\n",
    "home_reviews_num = home_reviews.groupby('reviewerID').count().sort_values(by='asin',ascending = False)\n",
    "home_reviews_num.head(5)"
   ]
  },
  {
   "cell_type": "code",
   "execution_count": 35,
   "metadata": {
    "scrolled": true
   },
   "outputs": [
    {
     "data": {
      "text/plain": [
       "Text(0.5,1,'The Distribution Of Reviews Of One Reviewer')"
      ]
     },
     "execution_count": 35,
     "metadata": {},
     "output_type": "execute_result"
    },
    {
     "data": {
      "image/png": "[encoded data removed]",
      "text/plain": [
       "<Figure size 432x288 with 1 Axes>"
      ]
     },
     "metadata": {
      "needs_background": "light"
     },
     "output_type": "display_data"
    }
   ],
   "source": [
    "# visualize the distribution of ratings from the users that wrote the largest number of reviews\n",
    "sns.distplot(home_reviews[home_reviews.reviewerID=='A1IU7S4HCK1XK0'].overall,kde=False, rug=False)\n",
    "plt.title('The Distribution Of Reviews Of One Reviewer')"
   ]
  },
  {
   "cell_type": "markdown",
   "metadata": {},
   "source": [
    "<div class=\"alert alert-block alert-warning\">\n",
    "<font color='#B8860B'>\n",
    "<b>Observation Description</b><br>\n",
    "</font>\n",
    "<font color='black'>\n",
    "In the home and kitchen category, the reviewers who wrote the most reviews tend to give the positive ratings.<br>\n",
    "    \n",
    "</font>\n",
    "</div>"
   ]
  },
  {
   "cell_type": "markdown",
   "metadata": {},
   "source": [
    "# Method 1: Detect Spam Reviewers through Abnormal Rating Patterns.\n"
   ]
  },
  {
   "cell_type": "markdown",
   "metadata": {},
   "source": [
    "<div class=\"alert alert-block alert-warning\">\n",
    "<font color='#B8860B'>\n",
    "<b>Method 1: Study the abnormal rating patterns of spam reviewers</b><br>\n",
    "</font>\n",
    "<font color='black'>\n",
    "We would like to quantify the deviation of the rating patterns of spam reviewers from the normal reviewers and rank these deviation to spot the suspicious users. This deviation is represented as statistical unexpectedness - confidence unexpectedness and support unexpectedness respectively.  <br>\n",
    "We hypothesize that the attribute - user id and ratings are statistical independent. <br>\n",
    "\n",
    "- General Steps:<br>\n",
    "   - classify the ratings into three classes: positive, neutral and negative <br>\n",
    "   - compute the confidence unexpectedness(CU)and support unexpectedness(SU) for each user in each class<br>\n",
    "   - sum of the cu and su in three classes for each user and rank the users in descent order to filter top ones as potential spam reviewers<br>\n",
    "</font>\n",
    "</div>"
   ]
  },
  {
   "cell_type": "markdown",
   "metadata": {},
   "source": [
    "## Compute Unexpectedness \n",
    "The confidence unexpectedness is defined according to conditional probability"
   ]
  },
  {
   "cell_type": "code",
   "execution_count": 36,
   "metadata": {},
   "outputs": [],
   "source": [
    "# since the attribute user id is assumed to be statistical independent to ratings\n",
    "# we extracted these two attributes and the products id for studying the one condition pattern \n",
    "home_independent_data=home_reviews[['reviewerID','asin','overall']]"
   ]
  },
  {
   "cell_type": "code",
   "execution_count": 38,
   "metadata": {},
   "outputs": [],
   "source": [
    "# define a function to classify the ratings into three classes\n",
    "# the ratings that are higher than 3 stars are assigned as positive class\n",
    "# the ratings that equal to 3 stars are assigned as neutral class\n",
    "# the ratings that are lower than 3 stars are assigned as negative class\n",
    "def assign_class(overall):\n",
    "    if overall==5:\n",
    "        return 'Positive'\n",
    "    if overall==3 or overall==4:\n",
    "        return 'Neutral'\n",
    "    if overall<3:\n",
    "        return 'Negative'"
   ]
  },
  {
   "cell_type": "code",
   "execution_count": 39,
   "metadata": {},
   "outputs": [],
   "source": [
    "# classify the ratings into three classes according to the rules above\n",
    "home_independent_data.overall=home_independent_data.overall.apply(assign_class)"
   ]
  },
  {
   "cell_type": "code",
   "execution_count": 40,
   "metadata": {},
   "outputs": [],
   "source": [
    "# define a function to compute the probability of each rating class: P(Ri)\n",
    "def compute_condional_prop(group):\n",
    "    p_pos=(group.overall=='Positive').sum()/(group.overall.count())\n",
    "    p_neu=(group.overall=='Neutral').sum()/(group.overall.count())\n",
    "    p_neg=(group.overall=='Negative').sum()/(group.overall.count())\n",
    "    return pd.Series([p_pos,p_neu,p_neg],index=['P_pos','P_neu','P_neg'])"
   ]
  },
  {
   "cell_type": "code",
   "execution_count": 41,
   "metadata": {},
   "outputs": [
    {
     "name": "stdout",
     "output_type": "stream",
     "text": [
      "P(pos)=  0.633895834013339   P(neu)=  0.27294520423743257   P(neg) 0.09315896174922841\n"
     ]
    }
   ],
   "source": [
    "#compute p(Ri) for each class\n",
    "P_pos=(home_independent_data['overall']=='Positive').sum()/home_independent_data.overall.count()\n",
    "P_neu=(home_independent_data['overall']=='Neutral').sum()/home_independent_data.overall.count()\n",
    "P_neg=(home_independent_data['overall']=='Negative').sum()/home_independent_data.overall.count()\n",
    "print('P(pos)= ',P_pos, '  P(neu)= ',P_neu, '  P(neg)', P_neg)"
   ]
  },
  {
   "cell_type": "code",
   "execution_count": 42,
   "metadata": {},
   "outputs": [
    {
     "data": {
      "image/png": "[encoded data removed]",
      "text/plain": [
       "<Figure size 432x288 with 1 Axes>"
      ]
     },
     "metadata": {
      "needs_background": "light"
     },
     "output_type": "display_data"
    }
   ],
   "source": [
    "#plot the distribution of P(Ri)\n",
    "plt.bar(['P_pos','P_neu','P_neg'],[P_pos,P_neu,P_neg])\n",
    "plt.title(\"The average rating distribution of all users\")\n",
    "plt.xlabel('Rating Classes')\n",
    "plt.ylabel('Possibility')\n",
    "plt.show()"
   ]
  },
  {
   "cell_type": "code",
   "execution_count": 43,
   "metadata": {},
   "outputs": [],
   "source": [
    "# compute the probability of each rating class for each user : P(c_i|a_jk)\n",
    "home_rating_distribution=home_independent_data.groupby(by=['reviewerID']).apply(compute_condional_prop)"
   ]
  },
  {
   "cell_type": "code",
   "execution_count": 44,
   "metadata": {},
   "outputs": [
    {
     "data": {
      "text/html": [
       "<div>\n",
       "<style scoped>\n",
       "    .dataframe tbody tr th:only-of-type {\n",
       "        vertical-align: middle;\n",
       "    }\n",
       "\n",
       "    .dataframe tbody tr th {\n",
       "        vertical-align: top;\n",
       "    }\n",
       "\n",
       "    .dataframe thead th {\n",
       "        text-align: right;\n",
       "    }\n",
       "</style>\n",
       "<table border=\"1\" class=\"dataframe\">\n",
       "  <thead>\n",
       "    <tr style=\"text-align: right;\">\n",
       "      <th></th>\n",
       "      <th>P_pos</th>\n",
       "      <th>P_neu</th>\n",
       "      <th>P_neg</th>\n",
       "    </tr>\n",
       "    <tr>\n",
       "      <th>reviewerID</th>\n",
       "      <th></th>\n",
       "      <th></th>\n",
       "      <th></th>\n",
       "    </tr>\n",
       "  </thead>\n",
       "  <tbody>\n",
       "    <tr>\n",
       "      <th>A0002382258OFJJ2UYNTR</th>\n",
       "      <td>1.000000</td>\n",
       "      <td>0.000000</td>\n",
       "      <td>0.000000</td>\n",
       "    </tr>\n",
       "    <tr>\n",
       "      <th>A0010876CNE3ILIM9HV0</th>\n",
       "      <td>0.571429</td>\n",
       "      <td>0.285714</td>\n",
       "      <td>0.142857</td>\n",
       "    </tr>\n",
       "    <tr>\n",
       "      <th>A00473363TJ8YSZ3YAGG9</th>\n",
       "      <td>0.250000</td>\n",
       "      <td>0.750000</td>\n",
       "      <td>0.000000</td>\n",
       "    </tr>\n",
       "    <tr>\n",
       "      <th>A00593903MCE5GXTAGGNL</th>\n",
       "      <td>1.000000</td>\n",
       "      <td>0.000000</td>\n",
       "      <td>0.000000</td>\n",
       "    </tr>\n",
       "    <tr>\n",
       "      <th>A0145698H8AAYMRXLBD8</th>\n",
       "      <td>0.800000</td>\n",
       "      <td>0.200000</td>\n",
       "      <td>0.000000</td>\n",
       "    </tr>\n",
       "  </tbody>\n",
       "</table>\n",
       "</div>"
      ],
      "text/plain": [
       "                          P_pos     P_neu     P_neg\n",
       "reviewerID                                         \n",
       "A0002382258OFJJ2UYNTR  1.000000  0.000000  0.000000\n",
       "A0010876CNE3ILIM9HV0   0.571429  0.285714  0.142857\n",
       "A00473363TJ8YSZ3YAGG9  0.250000  0.750000  0.000000\n",
       "A00593903MCE5GXTAGGNL  1.000000  0.000000  0.000000\n",
       "A0145698H8AAYMRXLBD8   0.800000  0.200000  0.000000"
      ]
     },
     "execution_count": 44,
     "metadata": {},
     "output_type": "execute_result"
    }
   ],
   "source": [
    "# check the results we obtain from above - the rating distribution for each user in each class\n",
    "home_rating_distribution.head()"
   ]
  },
  {
   "cell_type": "code",
   "execution_count": 50,
   "metadata": {},
   "outputs": [],
   "source": [
    "# compute the confidence unexpectedness (CU) for each class\n",
    "home_cu=pd.DataFrame()\n",
    "home_cu['pos_cu']=(home_rating_distribution['P_pos']-P_pos)/P_pos\n",
    "home_cu['neu_cu']=(home_rating_distribution['P_neu']-P_neu)/P_neu\n",
    "home_cu['neg_cu']=(home_rating_distribution['P_neg']-P_neg)/P_neg"
   ]
  },
  {
   "cell_type": "code",
   "execution_count": 51,
   "metadata": {},
   "outputs": [
    {
     "data": {
      "text/html": [
       "<div>\n",
       "<style scoped>\n",
       "    .dataframe tbody tr th:only-of-type {\n",
       "        vertical-align: middle;\n",
       "    }\n",
       "\n",
       "    .dataframe tbody tr th {\n",
       "        vertical-align: top;\n",
       "    }\n",
       "\n",
       "    .dataframe thead th {\n",
       "        text-align: right;\n",
       "    }\n",
       "</style>\n",
       "<table border=\"1\" class=\"dataframe\">\n",
       "  <thead>\n",
       "    <tr style=\"text-align: right;\">\n",
       "      <th></th>\n",
       "      <th>pos_cu</th>\n",
       "      <th>neu_cu</th>\n",
       "      <th>neg_cu</th>\n",
       "    </tr>\n",
       "    <tr>\n",
       "      <th>reviewerID</th>\n",
       "      <th></th>\n",
       "      <th></th>\n",
       "      <th></th>\n",
       "    </tr>\n",
       "  </thead>\n",
       "  <tbody>\n",
       "    <tr>\n",
       "      <th>A0002382258OFJJ2UYNTR</th>\n",
       "      <td>0.577546</td>\n",
       "      <td>-1.000000</td>\n",
       "      <td>-1.000000</td>\n",
       "    </tr>\n",
       "    <tr>\n",
       "      <th>A0010876CNE3ILIM9HV0</th>\n",
       "      <td>-0.098545</td>\n",
       "      <td>0.046783</td>\n",
       "      <td>0.533477</td>\n",
       "    </tr>\n",
       "    <tr>\n",
       "      <th>A00473363TJ8YSZ3YAGG9</th>\n",
       "      <td>-0.605613</td>\n",
       "      <td>1.747804</td>\n",
       "      <td>-1.000000</td>\n",
       "    </tr>\n",
       "    <tr>\n",
       "      <th>A00593903MCE5GXTAGGNL</th>\n",
       "      <td>0.577546</td>\n",
       "      <td>-1.000000</td>\n",
       "      <td>-1.000000</td>\n",
       "    </tr>\n",
       "    <tr>\n",
       "      <th>A0145698H8AAYMRXLBD8</th>\n",
       "      <td>0.262037</td>\n",
       "      <td>-0.267252</td>\n",
       "      <td>-1.000000</td>\n",
       "    </tr>\n",
       "  </tbody>\n",
       "</table>\n",
       "</div>"
      ],
      "text/plain": [
       "                         pos_cu    neu_cu    neg_cu\n",
       "reviewerID                                         \n",
       "A0002382258OFJJ2UYNTR  0.577546 -1.000000 -1.000000\n",
       "A0010876CNE3ILIM9HV0  -0.098545  0.046783  0.533477\n",
       "A00473363TJ8YSZ3YAGG9 -0.605613  1.747804 -1.000000\n",
       "A00593903MCE5GXTAGGNL  0.577546 -1.000000 -1.000000\n",
       "A0145698H8AAYMRXLBD8   0.262037 -0.267252 -1.000000"
      ]
     },
     "execution_count": 51,
     "metadata": {},
     "output_type": "execute_result"
    }
   ],
   "source": [
    "# check the results- CU, we obtain from above\n",
    "home_cu.head()"
   ]
  },
  {
   "cell_type": "markdown",
   "metadata": {},
   "source": [
    "## Compute Support Unexpectedness\n",
    "\n",
    "The support unexpectedness is defined according to joint probability."
   ]
  },
  {
   "cell_type": "code",
   "execution_count": 52,
   "metadata": {},
   "outputs": [],
   "source": [
    "# compute the number of reviewers in home and kitchen category\n",
    "home_reviwers_num = len(set(home_independent_data.reviewerID))\n",
    "\n",
    "# compute the number of all the reviews in home and kitchen category\n",
    "home_total_num = home_independent_data.shape[0]\n",
    "\n",
    "# compute the expectation of each class\n",
    "exp_pos = P_pos /home_reviwers_num\n",
    "exp_neu = P_neu /home_reviwers_num\n",
    "exp_neg = P_neg /home_reviwers_num\n",
    "\n",
    "# define a function to compute the support unexpectedness (SU) of each class\n",
    "def compute_support(bag):\n",
    "    pos_supp = ((bag[bag.overall=='Positive'].shape[0]/home_total_num)-exp_pos)/exp_pos\n",
    "    neu_supp = ((bag[bag.overall=='Neutral'].shape[0]/home_total_num)-exp_neu)/exp_neu\n",
    "    neg_supp = ((bag[bag.overall=='Negative'].shape[0]/home_total_num)-exp_neg)/exp_neg\n",
    "    return pd.Series(data=[pos_supp, neu_supp, neg_supp],index=['pos_su','neu_su','neg_su'])\n",
    "\n",
    "# compute the SU for each user in each class\n",
    "home_su = home_independent_data.groupby('reviewerID').apply(compute_support)"
   ]
  },
  {
   "cell_type": "code",
   "execution_count": 53,
   "metadata": {},
   "outputs": [
    {
     "data": {
      "text/html": [
       "<div>\n",
       "<style scoped>\n",
       "    .dataframe tbody tr th:only-of-type {\n",
       "        vertical-align: middle;\n",
       "    }\n",
       "\n",
       "    .dataframe tbody tr th {\n",
       "        vertical-align: top;\n",
       "    }\n",
       "\n",
       "    .dataframe thead th {\n",
       "        text-align: right;\n",
       "    }\n",
       "</style>\n",
       "<table border=\"1\" class=\"dataframe\">\n",
       "  <thead>\n",
       "    <tr style=\"text-align: right;\">\n",
       "      <th></th>\n",
       "      <th>pos_su</th>\n",
       "      <th>neu_su</th>\n",
       "      <th>neg_su</th>\n",
       "    </tr>\n",
       "    <tr>\n",
       "      <th>reviewerID</th>\n",
       "      <th></th>\n",
       "      <th></th>\n",
       "      <th></th>\n",
       "    </tr>\n",
       "  </thead>\n",
       "  <tbody>\n",
       "    <tr>\n",
       "      <th>A0002382258OFJJ2UYNTR</th>\n",
       "      <td>-0.048565</td>\n",
       "      <td>-1.000000</td>\n",
       "      <td>-1.000000</td>\n",
       "    </tr>\n",
       "    <tr>\n",
       "      <th>A0010876CNE3ILIM9HV0</th>\n",
       "      <td>-0.238852</td>\n",
       "      <td>-0.116144</td>\n",
       "      <td>0.294799</td>\n",
       "    </tr>\n",
       "    <tr>\n",
       "      <th>A00473363TJ8YSZ3YAGG9</th>\n",
       "      <td>-0.429139</td>\n",
       "      <td>2.977352</td>\n",
       "      <td>-1.000000</td>\n",
       "    </tr>\n",
       "    <tr>\n",
       "      <th>A00593903MCE5GXTAGGNL</th>\n",
       "      <td>1.664018</td>\n",
       "      <td>-1.000000</td>\n",
       "      <td>-1.000000</td>\n",
       "    </tr>\n",
       "    <tr>\n",
       "      <th>A0145698H8AAYMRXLBD8</th>\n",
       "      <td>-0.238852</td>\n",
       "      <td>-0.558072</td>\n",
       "      <td>-1.000000</td>\n",
       "    </tr>\n",
       "  </tbody>\n",
       "</table>\n",
       "</div>"
      ],
      "text/plain": [
       "                         pos_su    neu_su    neg_su\n",
       "reviewerID                                         \n",
       "A0002382258OFJJ2UYNTR -0.048565 -1.000000 -1.000000\n",
       "A0010876CNE3ILIM9HV0  -0.238852 -0.116144  0.294799\n",
       "A00473363TJ8YSZ3YAGG9 -0.429139  2.977352 -1.000000\n",
       "A00593903MCE5GXTAGGNL  1.664018 -1.000000 -1.000000\n",
       "A0145698H8AAYMRXLBD8  -0.238852 -0.558072 -1.000000"
      ]
     },
     "execution_count": 53,
     "metadata": {},
     "output_type": "execute_result"
    }
   ],
   "source": [
    "# check the results we obtain above : the SU for each user in each class\n",
    "home_su.head()"
   ]
  },
  {
   "cell_type": "code",
   "execution_count": 54,
   "metadata": {},
   "outputs": [],
   "source": [
    "# combine the results of CU and SU we have by now into one dataframe\n",
    "home_cu_su=home_cu.merge(home_su,left_index=True,right_index=True)"
   ]
  },
  {
   "cell_type": "code",
   "execution_count": 55,
   "metadata": {},
   "outputs": [
    {
     "data": {
      "text/html": [
       "<div>\n",
       "<style scoped>\n",
       "    .dataframe tbody tr th:only-of-type {\n",
       "        vertical-align: middle;\n",
       "    }\n",
       "\n",
       "    .dataframe tbody tr th {\n",
       "        vertical-align: top;\n",
       "    }\n",
       "\n",
       "    .dataframe thead th {\n",
       "        text-align: right;\n",
       "    }\n",
       "</style>\n",
       "<table border=\"1\" class=\"dataframe\">\n",
       "  <thead>\n",
       "    <tr style=\"text-align: right;\">\n",
       "      <th></th>\n",
       "      <th>pos_cu</th>\n",
       "      <th>neu_cu</th>\n",
       "      <th>neg_cu</th>\n",
       "      <th>pos_su</th>\n",
       "      <th>neu_su</th>\n",
       "      <th>neg_su</th>\n",
       "    </tr>\n",
       "    <tr>\n",
       "      <th>reviewerID</th>\n",
       "      <th></th>\n",
       "      <th></th>\n",
       "      <th></th>\n",
       "      <th></th>\n",
       "      <th></th>\n",
       "      <th></th>\n",
       "    </tr>\n",
       "  </thead>\n",
       "  <tbody>\n",
       "    <tr>\n",
       "      <th>A0002382258OFJJ2UYNTR</th>\n",
       "      <td>0.577546</td>\n",
       "      <td>-1.000000</td>\n",
       "      <td>-1.000000</td>\n",
       "      <td>-0.048565</td>\n",
       "      <td>-1.000000</td>\n",
       "      <td>-1.000000</td>\n",
       "    </tr>\n",
       "    <tr>\n",
       "      <th>A0010876CNE3ILIM9HV0</th>\n",
       "      <td>-0.098545</td>\n",
       "      <td>0.046783</td>\n",
       "      <td>0.533477</td>\n",
       "      <td>-0.238852</td>\n",
       "      <td>-0.116144</td>\n",
       "      <td>0.294799</td>\n",
       "    </tr>\n",
       "    <tr>\n",
       "      <th>A00473363TJ8YSZ3YAGG9</th>\n",
       "      <td>-0.605613</td>\n",
       "      <td>1.747804</td>\n",
       "      <td>-1.000000</td>\n",
       "      <td>-0.429139</td>\n",
       "      <td>2.977352</td>\n",
       "      <td>-1.000000</td>\n",
       "    </tr>\n",
       "    <tr>\n",
       "      <th>A00593903MCE5GXTAGGNL</th>\n",
       "      <td>0.577546</td>\n",
       "      <td>-1.000000</td>\n",
       "      <td>-1.000000</td>\n",
       "      <td>1.664018</td>\n",
       "      <td>-1.000000</td>\n",
       "      <td>-1.000000</td>\n",
       "    </tr>\n",
       "    <tr>\n",
       "      <th>A0145698H8AAYMRXLBD8</th>\n",
       "      <td>0.262037</td>\n",
       "      <td>-0.267252</td>\n",
       "      <td>-1.000000</td>\n",
       "      <td>-0.238852</td>\n",
       "      <td>-0.558072</td>\n",
       "      <td>-1.000000</td>\n",
       "    </tr>\n",
       "  </tbody>\n",
       "</table>\n",
       "</div>"
      ],
      "text/plain": [
       "                         pos_cu    neu_cu    neg_cu    pos_su    neu_su  \\\n",
       "reviewerID                                                                \n",
       "A0002382258OFJJ2UYNTR  0.577546 -1.000000 -1.000000 -0.048565 -1.000000   \n",
       "A0010876CNE3ILIM9HV0  -0.098545  0.046783  0.533477 -0.238852 -0.116144   \n",
       "A00473363TJ8YSZ3YAGG9 -0.605613  1.747804 -1.000000 -0.429139  2.977352   \n",
       "A00593903MCE5GXTAGGNL  0.577546 -1.000000 -1.000000  1.664018 -1.000000   \n",
       "A0145698H8AAYMRXLBD8   0.262037 -0.267252 -1.000000 -0.238852 -0.558072   \n",
       "\n",
       "                         neg_su  \n",
       "reviewerID                       \n",
       "A0002382258OFJJ2UYNTR -1.000000  \n",
       "A0010876CNE3ILIM9HV0   0.294799  \n",
       "A00473363TJ8YSZ3YAGG9 -1.000000  \n",
       "A00593903MCE5GXTAGGNL -1.000000  \n",
       "A0145698H8AAYMRXLBD8  -1.000000  "
      ]
     },
     "execution_count": 55,
     "metadata": {},
     "output_type": "execute_result"
    }
   ],
   "source": [
    "# show the results of the combining dataframe : CU+SU\n",
    "home_cu_su.head()"
   ]
  },
  {
   "cell_type": "code",
   "execution_count": 56,
   "metadata": {},
   "outputs": [],
   "source": [
    "# Sum of the CU in each class as the final CU values for each user, save the results in the column named 'cu_score'\n",
    "home_cu_su['cu_score']=home_cu_su['pos_cu']+home_cu_su['neu_cu']+home_cu_su['neg_cu']\n",
    "\n",
    "# Sum of the SU in each class as the final SU values for each user, save the results in the column named 'su_score'\n",
    "home_cu_su['su_score']=home_cu_su['pos_su']+home_cu_su['neu_su']+home_cu_su['neg_su']"
   ]
  },
  {
   "cell_type": "code",
   "execution_count": 57,
   "metadata": {},
   "outputs": [
    {
     "data": {
      "text/html": [
       "<div>\n",
       "<style scoped>\n",
       "    .dataframe tbody tr th:only-of-type {\n",
       "        vertical-align: middle;\n",
       "    }\n",
       "\n",
       "    .dataframe tbody tr th {\n",
       "        vertical-align: top;\n",
       "    }\n",
       "\n",
       "    .dataframe thead th {\n",
       "        text-align: right;\n",
       "    }\n",
       "</style>\n",
       "<table border=\"1\" class=\"dataframe\">\n",
       "  <thead>\n",
       "    <tr style=\"text-align: right;\">\n",
       "      <th></th>\n",
       "      <th>pos_cu</th>\n",
       "      <th>neu_cu</th>\n",
       "      <th>neg_cu</th>\n",
       "      <th>pos_su</th>\n",
       "      <th>neu_su</th>\n",
       "      <th>neg_su</th>\n",
       "      <th>cu_score</th>\n",
       "      <th>su_score</th>\n",
       "    </tr>\n",
       "    <tr>\n",
       "      <th>reviewerID</th>\n",
       "      <th></th>\n",
       "      <th></th>\n",
       "      <th></th>\n",
       "      <th></th>\n",
       "      <th></th>\n",
       "      <th></th>\n",
       "      <th></th>\n",
       "      <th></th>\n",
       "    </tr>\n",
       "  </thead>\n",
       "  <tbody>\n",
       "    <tr>\n",
       "      <th>A0002382258OFJJ2UYNTR</th>\n",
       "      <td>0.577546</td>\n",
       "      <td>-1.000000</td>\n",
       "      <td>-1.000000</td>\n",
       "      <td>-0.048565</td>\n",
       "      <td>-1.000000</td>\n",
       "      <td>-1.000000</td>\n",
       "      <td>-1.422454</td>\n",
       "      <td>-2.048565</td>\n",
       "    </tr>\n",
       "    <tr>\n",
       "      <th>A0010876CNE3ILIM9HV0</th>\n",
       "      <td>-0.098545</td>\n",
       "      <td>0.046783</td>\n",
       "      <td>0.533477</td>\n",
       "      <td>-0.238852</td>\n",
       "      <td>-0.116144</td>\n",
       "      <td>0.294799</td>\n",
       "      <td>0.481715</td>\n",
       "      <td>-0.060197</td>\n",
       "    </tr>\n",
       "    <tr>\n",
       "      <th>A00473363TJ8YSZ3YAGG9</th>\n",
       "      <td>-0.605613</td>\n",
       "      <td>1.747804</td>\n",
       "      <td>-1.000000</td>\n",
       "      <td>-0.429139</td>\n",
       "      <td>2.977352</td>\n",
       "      <td>-1.000000</td>\n",
       "      <td>0.142191</td>\n",
       "      <td>1.548213</td>\n",
       "    </tr>\n",
       "    <tr>\n",
       "      <th>A00593903MCE5GXTAGGNL</th>\n",
       "      <td>0.577546</td>\n",
       "      <td>-1.000000</td>\n",
       "      <td>-1.000000</td>\n",
       "      <td>1.664018</td>\n",
       "      <td>-1.000000</td>\n",
       "      <td>-1.000000</td>\n",
       "      <td>-1.422454</td>\n",
       "      <td>-0.335982</td>\n",
       "    </tr>\n",
       "    <tr>\n",
       "      <th>A0145698H8AAYMRXLBD8</th>\n",
       "      <td>0.262037</td>\n",
       "      <td>-0.267252</td>\n",
       "      <td>-1.000000</td>\n",
       "      <td>-0.238852</td>\n",
       "      <td>-0.558072</td>\n",
       "      <td>-1.000000</td>\n",
       "      <td>-1.005215</td>\n",
       "      <td>-1.796924</td>\n",
       "    </tr>\n",
       "  </tbody>\n",
       "</table>\n",
       "</div>"
      ],
      "text/plain": [
       "                         pos_cu    neu_cu    neg_cu    pos_su    neu_su  \\\n",
       "reviewerID                                                                \n",
       "A0002382258OFJJ2UYNTR  0.577546 -1.000000 -1.000000 -0.048565 -1.000000   \n",
       "A0010876CNE3ILIM9HV0  -0.098545  0.046783  0.533477 -0.238852 -0.116144   \n",
       "A00473363TJ8YSZ3YAGG9 -0.605613  1.747804 -1.000000 -0.429139  2.977352   \n",
       "A00593903MCE5GXTAGGNL  0.577546 -1.000000 -1.000000  1.664018 -1.000000   \n",
       "A0145698H8AAYMRXLBD8   0.262037 -0.267252 -1.000000 -0.238852 -0.558072   \n",
       "\n",
       "                         neg_su  cu_score  su_score  \n",
       "reviewerID                                           \n",
       "A0002382258OFJJ2UYNTR -1.000000 -1.422454 -2.048565  \n",
       "A0010876CNE3ILIM9HV0   0.294799  0.481715 -0.060197  \n",
       "A00473363TJ8YSZ3YAGG9 -1.000000  0.142191  1.548213  \n",
       "A00593903MCE5GXTAGGNL -1.000000 -1.422454 -0.335982  \n",
       "A0145698H8AAYMRXLBD8  -1.000000 -1.005215 -1.796924  "
      ]
     },
     "execution_count": 57,
     "metadata": {},
     "output_type": "execute_result"
    }
   ],
   "source": [
    "# check the results we get from above\n",
    "home_cu_su.head()"
   ]
  },
  {
   "cell_type": "code",
   "execution_count": 58,
   "metadata": {},
   "outputs": [],
   "source": [
    "# set the top 10% ranking users as the suspicious spam reviewers\n",
    "sus_threshold=int(0.1*home_cu_su.shape[0])\n",
    "sus_users=home_cu_su.sort_values(by=['cu_score','su_score'],ascending=False).iloc[:sus_threshold]\n",
    "normal_users=home_cu_su.sort_values(by=['cu_score','su_score'],ascending=False).iloc[sus_threshold:]"
   ]
  },
  {
   "cell_type": "code",
   "execution_count": 59,
   "metadata": {},
   "outputs": [
    {
     "data": {
      "text/html": [
       "<div>\n",
       "<style scoped>\n",
       "    .dataframe tbody tr th:only-of-type {\n",
       "        vertical-align: middle;\n",
       "    }\n",
       "\n",
       "    .dataframe tbody tr th {\n",
       "        vertical-align: top;\n",
       "    }\n",
       "\n",
       "    .dataframe thead th {\n",
       "        text-align: right;\n",
       "    }\n",
       "</style>\n",
       "<table border=\"1\" class=\"dataframe\">\n",
       "  <thead>\n",
       "    <tr style=\"text-align: right;\">\n",
       "      <th></th>\n",
       "      <th>pos_cu</th>\n",
       "      <th>neu_cu</th>\n",
       "      <th>neg_cu</th>\n",
       "      <th>pos_su</th>\n",
       "      <th>neu_su</th>\n",
       "      <th>neg_su</th>\n",
       "      <th>cu_score</th>\n",
       "      <th>su_score</th>\n",
       "    </tr>\n",
       "    <tr>\n",
       "      <th>reviewerID</th>\n",
       "      <th></th>\n",
       "      <th></th>\n",
       "      <th></th>\n",
       "      <th></th>\n",
       "      <th></th>\n",
       "      <th></th>\n",
       "      <th></th>\n",
       "      <th></th>\n",
       "    </tr>\n",
       "  </thead>\n",
       "  <tbody>\n",
       "    <tr>\n",
       "      <th>A1LUPQJLN3BRDO</th>\n",
       "      <td>-1.0</td>\n",
       "      <td>-1.0</td>\n",
       "      <td>9.73434</td>\n",
       "      <td>-1.0</td>\n",
       "      <td>-1.0</td>\n",
       "      <td>14.537587</td>\n",
       "      <td>7.73434</td>\n",
       "      <td>12.537587</td>\n",
       "    </tr>\n",
       "    <tr>\n",
       "      <th>A2UW6M4S2W8QOC</th>\n",
       "      <td>-1.0</td>\n",
       "      <td>-1.0</td>\n",
       "      <td>9.73434</td>\n",
       "      <td>-1.0</td>\n",
       "      <td>-1.0</td>\n",
       "      <td>14.537587</td>\n",
       "      <td>7.73434</td>\n",
       "      <td>12.537587</td>\n",
       "    </tr>\n",
       "    <tr>\n",
       "      <th>A13HOP8991UOLC</th>\n",
       "      <td>-1.0</td>\n",
       "      <td>-1.0</td>\n",
       "      <td>9.73434</td>\n",
       "      <td>-1.0</td>\n",
       "      <td>-1.0</td>\n",
       "      <td>8.063592</td>\n",
       "      <td>7.73434</td>\n",
       "      <td>6.063592</td>\n",
       "    </tr>\n",
       "    <tr>\n",
       "      <th>A23YJ2MIV0EKI6</th>\n",
       "      <td>-1.0</td>\n",
       "      <td>-1.0</td>\n",
       "      <td>9.73434</td>\n",
       "      <td>-1.0</td>\n",
       "      <td>-1.0</td>\n",
       "      <td>8.063592</td>\n",
       "      <td>7.73434</td>\n",
       "      <td>6.063592</td>\n",
       "    </tr>\n",
       "    <tr>\n",
       "      <th>A1KJM9PS3JJH8P</th>\n",
       "      <td>-1.0</td>\n",
       "      <td>-1.0</td>\n",
       "      <td>9.73434</td>\n",
       "      <td>-1.0</td>\n",
       "      <td>-1.0</td>\n",
       "      <td>6.768794</td>\n",
       "      <td>7.73434</td>\n",
       "      <td>4.768794</td>\n",
       "    </tr>\n",
       "  </tbody>\n",
       "</table>\n",
       "</div>"
      ],
      "text/plain": [
       "                pos_cu  neu_cu   neg_cu  pos_su  neu_su     neg_su  cu_score  \\\n",
       "reviewerID                                                                     \n",
       "A1LUPQJLN3BRDO    -1.0    -1.0  9.73434    -1.0    -1.0  14.537587   7.73434   \n",
       "A2UW6M4S2W8QOC    -1.0    -1.0  9.73434    -1.0    -1.0  14.537587   7.73434   \n",
       "A13HOP8991UOLC    -1.0    -1.0  9.73434    -1.0    -1.0   8.063592   7.73434   \n",
       "A23YJ2MIV0EKI6    -1.0    -1.0  9.73434    -1.0    -1.0   8.063592   7.73434   \n",
       "A1KJM9PS3JJH8P    -1.0    -1.0  9.73434    -1.0    -1.0   6.768794   7.73434   \n",
       "\n",
       "                 su_score  \n",
       "reviewerID                 \n",
       "A1LUPQJLN3BRDO  12.537587  \n",
       "A2UW6M4S2W8QOC  12.537587  \n",
       "A13HOP8991UOLC   6.063592  \n",
       "A23YJ2MIV0EKI6   6.063592  \n",
       "A1KJM9PS3JJH8P   4.768794  "
      ]
     },
     "execution_count": 59,
     "metadata": {},
     "output_type": "execute_result"
    }
   ],
   "source": [
    "# check the result of the suspicious users we found by now\n",
    "sus_users.head()"
   ]
  },
  {
   "cell_type": "code",
   "execution_count": 60,
   "metadata": {},
   "outputs": [
    {
     "data": {
      "text/html": [
       "<div>\n",
       "<style scoped>\n",
       "    .dataframe tbody tr th:only-of-type {\n",
       "        vertical-align: middle;\n",
       "    }\n",
       "\n",
       "    .dataframe tbody tr th {\n",
       "        vertical-align: top;\n",
       "    }\n",
       "\n",
       "    .dataframe thead th {\n",
       "        text-align: right;\n",
       "    }\n",
       "</style>\n",
       "<table border=\"1\" class=\"dataframe\">\n",
       "  <thead>\n",
       "    <tr style=\"text-align: right;\">\n",
       "      <th></th>\n",
       "      <th>pos_cu</th>\n",
       "      <th>neu_cu</th>\n",
       "      <th>neg_cu</th>\n",
       "      <th>pos_su</th>\n",
       "      <th>neu_su</th>\n",
       "      <th>neg_su</th>\n",
       "      <th>cu_score</th>\n",
       "      <th>su_score</th>\n",
       "    </tr>\n",
       "    <tr>\n",
       "      <th>reviewerID</th>\n",
       "      <th></th>\n",
       "      <th></th>\n",
       "      <th></th>\n",
       "      <th></th>\n",
       "      <th></th>\n",
       "      <th></th>\n",
       "      <th></th>\n",
       "      <th></th>\n",
       "    </tr>\n",
       "  </thead>\n",
       "  <tbody>\n",
       "    <tr>\n",
       "      <th>A3PZ7WCTEY6AG0</th>\n",
       "      <td>-0.211227</td>\n",
       "      <td>-0.389377</td>\n",
       "      <td>2.578113</td>\n",
       "      <td>-0.429139</td>\n",
       "      <td>-0.558072</td>\n",
       "      <td>1.589598</td>\n",
       "      <td>1.97751</td>\n",
       "      <td>0.602387</td>\n",
       "    </tr>\n",
       "    <tr>\n",
       "      <th>A3QBXZDK9A8AVE</th>\n",
       "      <td>-0.211227</td>\n",
       "      <td>-0.389377</td>\n",
       "      <td>2.578113</td>\n",
       "      <td>-0.429139</td>\n",
       "      <td>-0.558072</td>\n",
       "      <td>1.589598</td>\n",
       "      <td>1.97751</td>\n",
       "      <td>0.602387</td>\n",
       "    </tr>\n",
       "    <tr>\n",
       "      <th>A3QQPNJCLW6ROA</th>\n",
       "      <td>-0.211227</td>\n",
       "      <td>-0.389377</td>\n",
       "      <td>2.578113</td>\n",
       "      <td>-0.429139</td>\n",
       "      <td>-0.558072</td>\n",
       "      <td>1.589598</td>\n",
       "      <td>1.97751</td>\n",
       "      <td>0.602387</td>\n",
       "    </tr>\n",
       "    <tr>\n",
       "      <th>A3R3OQIN6R3P8T</th>\n",
       "      <td>-0.211227</td>\n",
       "      <td>-0.389377</td>\n",
       "      <td>2.578113</td>\n",
       "      <td>-0.429139</td>\n",
       "      <td>-0.558072</td>\n",
       "      <td>1.589598</td>\n",
       "      <td>1.97751</td>\n",
       "      <td>0.602387</td>\n",
       "    </tr>\n",
       "    <tr>\n",
       "      <th>A3R86H34VWNVA6</th>\n",
       "      <td>-0.211227</td>\n",
       "      <td>-0.389377</td>\n",
       "      <td>2.578113</td>\n",
       "      <td>-0.429139</td>\n",
       "      <td>-0.558072</td>\n",
       "      <td>1.589598</td>\n",
       "      <td>1.97751</td>\n",
       "      <td>0.602387</td>\n",
       "    </tr>\n",
       "  </tbody>\n",
       "</table>\n",
       "</div>"
      ],
      "text/plain": [
       "                  pos_cu    neu_cu    neg_cu    pos_su    neu_su    neg_su  \\\n",
       "reviewerID                                                                   \n",
       "A3PZ7WCTEY6AG0 -0.211227 -0.389377  2.578113 -0.429139 -0.558072  1.589598   \n",
       "A3QBXZDK9A8AVE -0.211227 -0.389377  2.578113 -0.429139 -0.558072  1.589598   \n",
       "A3QQPNJCLW6ROA -0.211227 -0.389377  2.578113 -0.429139 -0.558072  1.589598   \n",
       "A3R3OQIN6R3P8T -0.211227 -0.389377  2.578113 -0.429139 -0.558072  1.589598   \n",
       "A3R86H34VWNVA6 -0.211227 -0.389377  2.578113 -0.429139 -0.558072  1.589598   \n",
       "\n",
       "                cu_score  su_score  \n",
       "reviewerID                          \n",
       "A3PZ7WCTEY6AG0   1.97751  0.602387  \n",
       "A3QBXZDK9A8AVE   1.97751  0.602387  \n",
       "A3QQPNJCLW6ROA   1.97751  0.602387  \n",
       "A3R3OQIN6R3P8T   1.97751  0.602387  \n",
       "A3R86H34VWNVA6   1.97751  0.602387  "
      ]
     },
     "execution_count": 60,
     "metadata": {},
     "output_type": "execute_result"
    }
   ],
   "source": [
    "# check the result of the normal users we found by now\n",
    "normal_users.head()"
   ]
  },
  {
   "cell_type": "markdown",
   "metadata": {},
   "source": [
    "<div class=\"alert alert-block alert-warning\">\n",
    "<font color='#B8860B'>\n",
    "<b>Visualize the top rank suspicious reviewer </b><br>\n",
    "</font>\n",
    "<font color='black'>\n",
    "We try to visualize the top rank suspicious reviewers and oberserve its difference from the normal ones.<br>\n",
    "</font>\n",
    "</div>"
   ]
  },
  {
   "cell_type": "code",
   "execution_count": 63,
   "metadata": {},
   "outputs": [
    {
     "data": {
      "image/png": "[encoded data removed]",
      "text/plain": [
       "<Figure size 432x288 with 1 Axes>"
      ]
     },
     "metadata": {
      "needs_background": "light"
     },
     "output_type": "display_data"
    }
   ],
   "source": [
    "# The comparation of rating distributions between most suspicious user and average users\n",
    "index = np.arange(3)  \n",
    "bar_width = 0.35  \n",
    "opacity = 0.7  \n",
    "plt.bar(index, [P_pos,P_neu,P_neg], bar_width,alpha=opacity, color='b',label= 'Normal')  \n",
    "plt.bar(index + bar_width, home_rating_distribution.loc['A1LUPQJLN3BRDO'], bar_width,alpha=opacity,color='r',label='Suspicious')  \n",
    "plt.xticks(index + bar_width, ('P_pos', 'P_neu', 'P_neg'))  \n",
    "plt.title(\"Rating distribution comparation between normal users and suspicious one\")\n",
    "plt.xlabel('Rating Classes')\n",
    "plt.ylabel('Possibility')\n",
    "plt.ylim(0,1)  \n",
    "plt.legend()\n",
    "plt.show()"
   ]
  },
  {
   "cell_type": "code",
   "execution_count": 64,
   "metadata": {},
   "outputs": [],
   "source": [
    "# sample the suspicious users to visualize\n",
    "sus_users_samples=sus_users.sample(frac=0.01)\n",
    "\n",
    "# sample the normal users to visualize\n",
    "normal_users_samples=normal_users.sample(frac=0.01)"
   ]
  },
  {
   "cell_type": "code",
   "execution_count": 68,
   "metadata": {},
   "outputs": [
    {
     "data": {
      "image/png": "[encoded data removed]",
      "text/plain": [
       "<Figure size 720x360 with 1 Axes>"
      ]
     },
     "metadata": {
      "needs_background": "light"
     },
     "output_type": "display_data"
    }
   ],
   "source": [
    "# Visualize the suspicious users and normal users computed by CU \n",
    "# the red dots represent the suspicious users, the blue dots represent the normal users\n",
    "fig = plt.figure(figsize=(10,5))\n",
    "ax = fig.add_subplot(111, projection='3d')\n",
    "ax.scatter(sus_users_samples['pos_cu'],sus_users_samples['neu_cu'],sus_users_samples['neg_cu'],c='r',marker='^',label='Suspicous')\n",
    "ax.scatter(normal_users_samples['pos_cu'],normal_users_samples['neu_cu'],normal_users_samples['neg_cu'],c='b',marker='o',label=\"Normal\")\n",
    "ax.view_init(30,30)\n",
    "ax.set_title('Visualize the confident unexpectness distribution')\n",
    "ax.set_xlabel('pos_cu')\n",
    "ax.set_ylabel('neu_cu')\n",
    "ax.set_zlabel('neg_cu')\n",
    "ax.legend()\n",
    "plt.show()"
   ]
  },
  {
   "cell_type": "code",
   "execution_count": 67,
   "metadata": {},
   "outputs": [
    {
     "data": {
      "image/png": "[encoded data removed]",
      "text/plain": [
       "<Figure size 720x360 with 1 Axes>"
      ]
     },
     "metadata": {
      "needs_background": "light"
     },
     "output_type": "display_data"
    }
   ],
   "source": [
    "# Visualize the suspicious users and normal users computed by SU\n",
    "# the red dots represent the suspicious users, the blue dots represent the normal users\n",
    "fig = plt.figure(figsize=(10,5))\n",
    "ax = fig.add_subplot(111, projection='3d')\n",
    "ax.scatter(sus_users_samples['pos_su'],sus_users_samples['neu_su'],sus_users_samples['neg_su'],c='r',marker='^',label='Suspicious')\n",
    "ax.scatter(normal_users_samples['pos_su'],normal_users_samples['neu_su'],normal_users_samples['neg_su'],c='b',marker='o',label='Normal')\n",
    "ax.view_init(30,60)\n",
    "ax.set_title('Visualize the support unexpectness distribution')\n",
    "ax.set_xlabel('pos_su')\n",
    "ax.set_ylabel('neu_su')\n",
    "ax.set_zlabel('neg_su')\n",
    "ax.legend()\n",
    "plt.show()"
   ]
  },
  {
   "cell_type": "markdown",
   "metadata": {},
   "source": [
    "# Method 2: Detect Spam Reviewers through Unsupervised Clustering"
   ]
  },
  {
   "cell_type": "markdown",
   "metadata": {},
   "source": [
    "<div class=\"alert alert-block alert-warning\">\n",
    "<font color='#B8860B'>\n",
    "<b>Method 2: reviewers and reviews clustering by unsupervised learning </b><br>\n",
    "</font>\n",
    "<font color='black'>\n",
    "    <br>\n",
    "Intuitive idea: the features we design can reflect the behaviors of the spam and non-spam reviewers as well as the characteristics of fake and non-fake reviews thus we can split the reviewers and reviews into spam and non-spam clustering by unsupervised learning method.\n",
    "We apply the unsupervised learning method to find out the spam reviewers by self-designed features especially for spam reviewers and fake reviews respectively.<br>\n",
    "</font>\n",
    "</div>"
   ]
  },
  {
   "cell_type": "markdown",
   "metadata": {},
   "source": [
    "## Feature Engineering"
   ]
  },
  {
   "cell_type": "markdown",
   "metadata": {},
   "source": [
    "### Convert Text Sentence to Vector "
   ]
  },
  {
   "cell_type": "code",
   "execution_count": 69,
   "metadata": {},
   "outputs": [],
   "source": [
    "#sentence2vec\n",
    "nlp = spacy.load('en')\n",
    "\n",
    "# Sentence to Vector \n",
    "def sentence2vector(text):\n",
    "    return nlp(text).vector"
   ]
  },
  {
   "cell_type": "code",
   "execution_count": 70,
   "metadata": {},
   "outputs": [],
   "source": [
    "# home_reviews['reviewVec']=home_reviews.reviewText.apply(sentence2vector)\n",
    "# pickle.dump(home_reviews,open('home_reviews_textVec.pkl','wb'))\n",
    "home_reviews_textVec=pickle.load(open('home_reviews_textVec.pkl','rb'))"
   ]
  },
  {
   "cell_type": "code",
   "execution_count": 71,
   "metadata": {},
   "outputs": [
    {
     "data": {
      "text/html": [
       "<div>\n",
       "<style scoped>\n",
       "    .dataframe tbody tr th:only-of-type {\n",
       "        vertical-align: middle;\n",
       "    }\n",
       "\n",
       "    .dataframe tbody tr th {\n",
       "        vertical-align: top;\n",
       "    }\n",
       "\n",
       "    .dataframe thead th {\n",
       "        text-align: right;\n",
       "    }\n",
       "</style>\n",
       "<table border=\"1\" class=\"dataframe\">\n",
       "  <thead>\n",
       "    <tr style=\"text-align: right;\">\n",
       "      <th></th>\n",
       "      <th>reviewerID</th>\n",
       "      <th>asin</th>\n",
       "      <th>helpful</th>\n",
       "      <th>reviewText</th>\n",
       "      <th>overall</th>\n",
       "      <th>unixReviewTime</th>\n",
       "      <th>reviewVec</th>\n",
       "    </tr>\n",
       "  </thead>\n",
       "  <tbody>\n",
       "    <tr>\n",
       "      <th>0</th>\n",
       "      <td>APYOBQE6M18AA</td>\n",
       "      <td>0615391206</td>\n",
       "      <td>[0, 0]</td>\n",
       "      <td>My daughter wanted this book and the price on ...</td>\n",
       "      <td>5.0</td>\n",
       "      <td>1382140800</td>\n",
       "      <td>[0.14266632, 0.040547352, 0.78923875, 1.961626...</td>\n",
       "    </tr>\n",
       "    <tr>\n",
       "      <th>1</th>\n",
       "      <td>A1JVQTAGHYOL7F</td>\n",
       "      <td>0615391206</td>\n",
       "      <td>[0, 0]</td>\n",
       "      <td>I bought this zoku quick pop for my daughterr ...</td>\n",
       "      <td>5.0</td>\n",
       "      <td>1403049600</td>\n",
       "      <td>[0.42623562, 0.28558293, 1.0666791, 1.1686757,...</td>\n",
       "    </tr>\n",
       "    <tr>\n",
       "      <th>2</th>\n",
       "      <td>A3UPYGJKZ0XTU4</td>\n",
       "      <td>0615391206</td>\n",
       "      <td>[26, 27]</td>\n",
       "      <td>There is no shortage of pop recipes available ...</td>\n",
       "      <td>4.0</td>\n",
       "      <td>1367712000</td>\n",
       "      <td>[0.33166683, 0.3857316, 0.13150564, 0.8163318,...</td>\n",
       "    </tr>\n",
       "    <tr>\n",
       "      <th>3</th>\n",
       "      <td>A2MHCTX43MIMDZ</td>\n",
       "      <td>0615391206</td>\n",
       "      <td>[14, 18]</td>\n",
       "      <td>This book is a must have if you get a Zoku (wh...</td>\n",
       "      <td>5.0</td>\n",
       "      <td>1312416000</td>\n",
       "      <td>[0.12381068, -0.17305964, 0.49680334, 1.404797...</td>\n",
       "    </tr>\n",
       "    <tr>\n",
       "      <th>4</th>\n",
       "      <td>AHAI85T5C2DH3</td>\n",
       "      <td>0615391206</td>\n",
       "      <td>[0, 0]</td>\n",
       "      <td>This cookbook is great.  I have really enjoyed...</td>\n",
       "      <td>4.0</td>\n",
       "      <td>1402099200</td>\n",
       "      <td>[0.14035076, -0.090854086, 0.57210714, 1.25145...</td>\n",
       "    </tr>\n",
       "  </tbody>\n",
       "</table>\n",
       "</div>"
      ],
      "text/plain": [
       "       reviewerID        asin   helpful  \\\n",
       "0   APYOBQE6M18AA  0615391206    [0, 0]   \n",
       "1  A1JVQTAGHYOL7F  0615391206    [0, 0]   \n",
       "2  A3UPYGJKZ0XTU4  0615391206  [26, 27]   \n",
       "3  A2MHCTX43MIMDZ  0615391206  [14, 18]   \n",
       "4   AHAI85T5C2DH3  0615391206    [0, 0]   \n",
       "\n",
       "                                          reviewText  overall  unixReviewTime  \\\n",
       "0  My daughter wanted this book and the price on ...      5.0      1382140800   \n",
       "1  I bought this zoku quick pop for my daughterr ...      5.0      1403049600   \n",
       "2  There is no shortage of pop recipes available ...      4.0      1367712000   \n",
       "3  This book is a must have if you get a Zoku (wh...      5.0      1312416000   \n",
       "4  This cookbook is great.  I have really enjoyed...      4.0      1402099200   \n",
       "\n",
       "                                           reviewVec  \n",
       "0  [0.14266632, 0.040547352, 0.78923875, 1.961626...  \n",
       "1  [0.42623562, 0.28558293, 1.0666791, 1.1686757,...  \n",
       "2  [0.33166683, 0.3857316, 0.13150564, 0.8163318,...  \n",
       "3  [0.12381068, -0.17305964, 0.49680334, 1.404797...  \n",
       "4  [0.14035076, -0.090854086, 0.57210714, 1.25145...  "
      ]
     },
     "execution_count": 71,
     "metadata": {},
     "output_type": "execute_result"
    }
   ],
   "source": [
    "# check the results of the reviews data after converting into vector\n",
    "home_reviews_textVec.head()"
   ]
  },
  {
   "cell_type": "markdown",
   "metadata": {},
   "source": [
    "### Comvert unixReviewTime to python datetime"
   ]
  },
  {
   "cell_type": "code",
   "execution_count": 72,
   "metadata": {},
   "outputs": [],
   "source": [
    "# define a function to convert unixReviewTime to python datetime\n",
    "def unixRevTime2pythonTime(unix_time):\n",
    "    pythonTime=date.fromtimestamp(unix_time)\n",
    "    return pythonTime"
   ]
  },
  {
   "cell_type": "code",
   "execution_count": 73,
   "metadata": {},
   "outputs": [],
   "source": [
    "# convert the unixReviewTime to python datetime\n",
    "home_reviews_textVec.unixReviewTime=home_reviews.unixReviewTime.apply(unixRevTime2pythonTime)\n",
    "\n",
    "# change the column's name of unixReviewTime into PythonTime\n",
    "home_reviews_textVec.rename(columns={\"unixReviewTime\":\"PythonTime\"},inplace=True)"
   ]
  },
  {
   "cell_type": "code",
   "execution_count": 74,
   "metadata": {
    "scrolled": true
   },
   "outputs": [
    {
     "data": {
      "text/html": [
       "<div>\n",
       "<style scoped>\n",
       "    .dataframe tbody tr th:only-of-type {\n",
       "        vertical-align: middle;\n",
       "    }\n",
       "\n",
       "    .dataframe tbody tr th {\n",
       "        vertical-align: top;\n",
       "    }\n",
       "\n",
       "    .dataframe thead th {\n",
       "        text-align: right;\n",
       "    }\n",
       "</style>\n",
       "<table border=\"1\" class=\"dataframe\">\n",
       "  <thead>\n",
       "    <tr style=\"text-align: right;\">\n",
       "      <th></th>\n",
       "      <th>reviewerID</th>\n",
       "      <th>asin</th>\n",
       "      <th>helpful</th>\n",
       "      <th>reviewText</th>\n",
       "      <th>overall</th>\n",
       "      <th>PythonTime</th>\n",
       "      <th>reviewVec</th>\n",
       "    </tr>\n",
       "  </thead>\n",
       "  <tbody>\n",
       "    <tr>\n",
       "      <th>0</th>\n",
       "      <td>APYOBQE6M18AA</td>\n",
       "      <td>0615391206</td>\n",
       "      <td>[0, 0]</td>\n",
       "      <td>My daughter wanted this book and the price on ...</td>\n",
       "      <td>5.0</td>\n",
       "      <td>2013-10-19</td>\n",
       "      <td>[0.14266632, 0.040547352, 0.78923875, 1.961626...</td>\n",
       "    </tr>\n",
       "    <tr>\n",
       "      <th>1</th>\n",
       "      <td>A1JVQTAGHYOL7F</td>\n",
       "      <td>0615391206</td>\n",
       "      <td>[0, 0]</td>\n",
       "      <td>I bought this zoku quick pop for my daughterr ...</td>\n",
       "      <td>5.0</td>\n",
       "      <td>2014-06-18</td>\n",
       "      <td>[0.42623562, 0.28558293, 1.0666791, 1.1686757,...</td>\n",
       "    </tr>\n",
       "    <tr>\n",
       "      <th>2</th>\n",
       "      <td>A3UPYGJKZ0XTU4</td>\n",
       "      <td>0615391206</td>\n",
       "      <td>[26, 27]</td>\n",
       "      <td>There is no shortage of pop recipes available ...</td>\n",
       "      <td>4.0</td>\n",
       "      <td>2013-05-05</td>\n",
       "      <td>[0.33166683, 0.3857316, 0.13150564, 0.8163318,...</td>\n",
       "    </tr>\n",
       "    <tr>\n",
       "      <th>3</th>\n",
       "      <td>A2MHCTX43MIMDZ</td>\n",
       "      <td>0615391206</td>\n",
       "      <td>[14, 18]</td>\n",
       "      <td>This book is a must have if you get a Zoku (wh...</td>\n",
       "      <td>5.0</td>\n",
       "      <td>2011-08-04</td>\n",
       "      <td>[0.12381068, -0.17305964, 0.49680334, 1.404797...</td>\n",
       "    </tr>\n",
       "    <tr>\n",
       "      <th>4</th>\n",
       "      <td>AHAI85T5C2DH3</td>\n",
       "      <td>0615391206</td>\n",
       "      <td>[0, 0]</td>\n",
       "      <td>This cookbook is great.  I have really enjoyed...</td>\n",
       "      <td>4.0</td>\n",
       "      <td>2014-06-07</td>\n",
       "      <td>[0.14035076, -0.090854086, 0.57210714, 1.25145...</td>\n",
       "    </tr>\n",
       "  </tbody>\n",
       "</table>\n",
       "</div>"
      ],
      "text/plain": [
       "       reviewerID        asin   helpful  \\\n",
       "0   APYOBQE6M18AA  0615391206    [0, 0]   \n",
       "1  A1JVQTAGHYOL7F  0615391206    [0, 0]   \n",
       "2  A3UPYGJKZ0XTU4  0615391206  [26, 27]   \n",
       "3  A2MHCTX43MIMDZ  0615391206  [14, 18]   \n",
       "4   AHAI85T5C2DH3  0615391206    [0, 0]   \n",
       "\n",
       "                                          reviewText  overall  PythonTime  \\\n",
       "0  My daughter wanted this book and the price on ...      5.0  2013-10-19   \n",
       "1  I bought this zoku quick pop for my daughterr ...      5.0  2014-06-18   \n",
       "2  There is no shortage of pop recipes available ...      4.0  2013-05-05   \n",
       "3  This book is a must have if you get a Zoku (wh...      5.0  2011-08-04   \n",
       "4  This cookbook is great.  I have really enjoyed...      4.0  2014-06-07   \n",
       "\n",
       "                                           reviewVec  \n",
       "0  [0.14266632, 0.040547352, 0.78923875, 1.961626...  \n",
       "1  [0.42623562, 0.28558293, 1.0666791, 1.1686757,...  \n",
       "2  [0.33166683, 0.3857316, 0.13150564, 0.8163318,...  \n",
       "3  [0.12381068, -0.17305964, 0.49680334, 1.404797...  \n",
       "4  [0.14035076, -0.090854086, 0.57210714, 1.25145...  "
      ]
     },
     "execution_count": 74,
     "metadata": {},
     "output_type": "execute_result"
    }
   ],
   "source": [
    "# check the results of the reviews data after changing the unix time into python time\n",
    "home_reviews_textVec.head()"
   ]
  },
  {
   "cell_type": "markdown",
   "metadata": {},
   "source": [
    "## Clustering by reviewer features"
   ]
  },
  {
   "cell_type": "markdown",
   "metadata": {},
   "source": [
    "### Computing Features: \n",
    "- Reviewer Features:\n",
    " - Review Text Similarity (RTS)\n",
    " - Review Interval (RI)\n",
    " - First Reviewer Frequency (FRF)\n",
    " - Maximal Number of Reviews Per Day (MNR)"
   ]
  },
  {
   "cell_type": "code",
   "execution_count": 75,
   "metadata": {},
   "outputs": [],
   "source": [
    "\n",
    "# Convert unixReviewTime to python datetime\n",
    "def unixRevTime2pythonTime(unix_time):\n",
    "    pythonTime=date.fromtimestamp(unix_time)\n",
    "    return pythonTime\n",
    "\n",
    "# compute Review Text Similarity RTS\n",
    "'''\n",
    "group: group by reviewerID\n",
    "'''\n",
    "def compute_similarity(group):\n",
    "    max_RTS=0;\n",
    "    vec = group.reviewVec\n",
    "    for i in range(len(vec)-1):\n",
    "        for j in range(i+1,len(vec)): \n",
    "            tmp=1-distance.cosine(vec.iloc[i],vec.iloc[j])\n",
    "            if tmp>max_RTS:\n",
    "                max_RTS=tmp\n",
    "    return max_RTS\n",
    "\n",
    "#compute Review Interval (RI)\n",
    "'''\n",
    "group: group by reviewerID\n",
    "\n",
    "'''\n",
    "def compute_RI(group):\n",
    "\n",
    "    latest_t=group.PythonTime.max()\n",
    "    first_t=group.PythonTime.min()\n",
    "    t=(latest_t-first_t).days\n",
    "    threshold=28\n",
    "    if t>threshold:\n",
    "        return 0;\n",
    "    else:\n",
    "        return (1-(t/threshold))\n",
    "\n",
    "    \n",
    "#compute First Reviewes Number\n",
    "'''\n",
    "group: group by asin\n",
    "\n",
    "'''\n",
    "def compute_FRN(group):\n",
    "    threshold=3\n",
    "    for i in range(threshold):\n",
    "        reviewer_features.FRN.loc[group.reviewerID.iloc[i]]+=1"
   ]
  },
  {
   "cell_type": "code",
   "execution_count": 76,
   "metadata": {},
   "outputs": [],
   "source": [
    "#group the reviews by reviewerID\n",
    "home_reviews_grouped=home_reviews_textVec.groupby(by=['reviewerID'])"
   ]
  },
  {
   "cell_type": "code",
   "execution_count": 77,
   "metadata": {},
   "outputs": [],
   "source": [
    "#group the reviews by productID\n",
    "home_reviews_grouped_id=home_reviews_textVec.groupby(by=['asin'])"
   ]
  },
  {
   "cell_type": "code",
   "execution_count": 78,
   "metadata": {},
   "outputs": [],
   "source": [
    "# Compute Maximal Number of Reviews per day\n",
    "reviewer_features=pd.DataFrame(home_reviews_grouped.PythonTime.value_counts()\\\n",
    "                               .groupby(level=0).apply(max))\n",
    "reviewer_features.rename(columns={'PythonTime':'MNR'},inplace=True)"
   ]
  },
  {
   "cell_type": "code",
   "execution_count": 79,
   "metadata": {},
   "outputs": [],
   "source": [
    "# compute Review Text Similiarity RTS\n",
    "reviewer_features['RTS']=home_reviews_grouped.apply(compute_similarity)"
   ]
  },
  {
   "cell_type": "code",
   "execution_count": 80,
   "metadata": {},
   "outputs": [],
   "source": [
    "#compute Review Interval (RI)\n",
    "reviewer_features['RI']=home_reviews_grouped.apply(compute_RI)"
   ]
  },
  {
   "cell_type": "code",
   "execution_count": 81,
   "metadata": {
    "scrolled": true
   },
   "outputs": [
    {
     "data": {
      "text/html": [
       "<div>\n",
       "<style scoped>\n",
       "    .dataframe tbody tr th:only-of-type {\n",
       "        vertical-align: middle;\n",
       "    }\n",
       "\n",
       "    .dataframe tbody tr th {\n",
       "        vertical-align: top;\n",
       "    }\n",
       "\n",
       "    .dataframe thead th {\n",
       "        text-align: right;\n",
       "    }\n",
       "</style>\n",
       "<table border=\"1\" class=\"dataframe\">\n",
       "  <thead>\n",
       "    <tr style=\"text-align: right;\">\n",
       "      <th></th>\n",
       "    </tr>\n",
       "  </thead>\n",
       "  <tbody>\n",
       "  </tbody>\n",
       "</table>\n",
       "</div>"
      ],
      "text/plain": [
       "Empty DataFrame\n",
       "Columns: []\n",
       "Index: []"
      ]
     },
     "execution_count": 81,
     "metadata": {},
     "output_type": "execute_result"
    }
   ],
   "source": [
    "#compute compute First Reviewes Number\n",
    "reviewer_features['FRN']=np.zeros((len(reviewer_features),1))\n",
    "#sort the review time group by product and found out those who write review first.\n",
    "sorted_reviewTime_table=home_reviews_grouped_id.apply(pd.DataFrame.sort_values,'PythonTime')\n",
    "#Compute_FRN: \n",
    "sorted_reviewTime_table.groupby(level=0).apply(compute_FRN)"
   ]
  },
  {
   "cell_type": "code",
   "execution_count": 82,
   "metadata": {},
   "outputs": [
    {
     "data": {
      "text/html": [
       "<div>\n",
       "<style scoped>\n",
       "    .dataframe tbody tr th:only-of-type {\n",
       "        vertical-align: middle;\n",
       "    }\n",
       "\n",
       "    .dataframe tbody tr th {\n",
       "        vertical-align: top;\n",
       "    }\n",
       "\n",
       "    .dataframe thead th {\n",
       "        text-align: right;\n",
       "    }\n",
       "</style>\n",
       "<table border=\"1\" class=\"dataframe\">\n",
       "  <thead>\n",
       "    <tr style=\"text-align: right;\">\n",
       "      <th></th>\n",
       "      <th>MNR</th>\n",
       "      <th>RTS</th>\n",
       "      <th>RI</th>\n",
       "      <th>FRN</th>\n",
       "    </tr>\n",
       "    <tr>\n",
       "      <th>reviewerID</th>\n",
       "      <th></th>\n",
       "      <th></th>\n",
       "      <th></th>\n",
       "      <th></th>\n",
       "    </tr>\n",
       "  </thead>\n",
       "  <tbody>\n",
       "    <tr>\n",
       "      <th>A0002382258OFJJ2UYNTR</th>\n",
       "      <td>3</td>\n",
       "      <td>0.870572</td>\n",
       "      <td>0.000000</td>\n",
       "      <td>1.0</td>\n",
       "    </tr>\n",
       "    <tr>\n",
       "      <th>A0010876CNE3ILIM9HV0</th>\n",
       "      <td>3</td>\n",
       "      <td>0.953200</td>\n",
       "      <td>0.000000</td>\n",
       "      <td>1.0</td>\n",
       "    </tr>\n",
       "    <tr>\n",
       "      <th>A00473363TJ8YSZ3YAGG9</th>\n",
       "      <td>4</td>\n",
       "      <td>0.920133</td>\n",
       "      <td>0.000000</td>\n",
       "      <td>1.0</td>\n",
       "    </tr>\n",
       "    <tr>\n",
       "      <th>A00593903MCE5GXTAGGNL</th>\n",
       "      <td>12</td>\n",
       "      <td>0.889532</td>\n",
       "      <td>0.000000</td>\n",
       "      <td>0.0</td>\n",
       "    </tr>\n",
       "    <tr>\n",
       "      <th>A0145698H8AAYMRXLBD8</th>\n",
       "      <td>4</td>\n",
       "      <td>0.869029</td>\n",
       "      <td>0.892857</td>\n",
       "      <td>0.0</td>\n",
       "    </tr>\n",
       "  </tbody>\n",
       "</table>\n",
       "</div>"
      ],
      "text/plain": [
       "                       MNR       RTS        RI  FRN\n",
       "reviewerID                                         \n",
       "A0002382258OFJJ2UYNTR    3  0.870572  0.000000  1.0\n",
       "A0010876CNE3ILIM9HV0     3  0.953200  0.000000  1.0\n",
       "A00473363TJ8YSZ3YAGG9    4  0.920133  0.000000  1.0\n",
       "A00593903MCE5GXTAGGNL   12  0.889532  0.000000  0.0\n",
       "A0145698H8AAYMRXLBD8     4  0.869029  0.892857  0.0"
      ]
     },
     "execution_count": 82,
     "metadata": {},
     "output_type": "execute_result"
    }
   ],
   "source": [
    "reviewer_features.head()"
   ]
  },
  {
   "cell_type": "markdown",
   "metadata": {},
   "source": [
    "### Clustering of the spam reviewers and non-spam reviewers"
   ]
  },
  {
   "cell_type": "markdown",
   "metadata": {},
   "source": [
    "### Normalize the training data"
   ]
  },
  {
   "cell_type": "code",
   "execution_count": 87,
   "metadata": {},
   "outputs": [],
   "source": [
    "#Normalize the data\n",
    "reviewer_features_normal = (reviewer_features - reviewer_features.mean()) / (reviewer_features.max()-reviewer_features.min())"
   ]
  },
  {
   "cell_type": "code",
   "execution_count": 88,
   "metadata": {},
   "outputs": [
    {
     "data": {
      "text/html": [
       "<div>\n",
       "<style scoped>\n",
       "    .dataframe tbody tr th:only-of-type {\n",
       "        vertical-align: middle;\n",
       "    }\n",
       "\n",
       "    .dataframe tbody tr th {\n",
       "        vertical-align: top;\n",
       "    }\n",
       "\n",
       "    .dataframe thead th {\n",
       "        text-align: right;\n",
       "    }\n",
       "</style>\n",
       "<table border=\"1\" class=\"dataframe\">\n",
       "  <thead>\n",
       "    <tr style=\"text-align: right;\">\n",
       "      <th></th>\n",
       "      <th>MNR</th>\n",
       "      <th>RTS</th>\n",
       "      <th>RI</th>\n",
       "      <th>FRN</th>\n",
       "    </tr>\n",
       "    <tr>\n",
       "      <th>reviewerID</th>\n",
       "      <th></th>\n",
       "      <th></th>\n",
       "      <th></th>\n",
       "      <th></th>\n",
       "    </tr>\n",
       "  </thead>\n",
       "  <tbody>\n",
       "    <tr>\n",
       "      <th>A0002382258OFJJ2UYNTR</th>\n",
       "      <td>0.000166</td>\n",
       "      <td>-0.094574</td>\n",
       "      <td>-0.069376</td>\n",
       "      <td>-0.002605</td>\n",
       "    </tr>\n",
       "    <tr>\n",
       "      <th>A0010876CNE3ILIM9HV0</th>\n",
       "      <td>0.000166</td>\n",
       "      <td>0.069283</td>\n",
       "      <td>-0.069376</td>\n",
       "      <td>-0.002605</td>\n",
       "    </tr>\n",
       "    <tr>\n",
       "      <th>A00473363TJ8YSZ3YAGG9</th>\n",
       "      <td>0.023422</td>\n",
       "      <td>0.003709</td>\n",
       "      <td>-0.069376</td>\n",
       "      <td>-0.002605</td>\n",
       "    </tr>\n",
       "    <tr>\n",
       "      <th>A00593903MCE5GXTAGGNL</th>\n",
       "      <td>0.209469</td>\n",
       "      <td>-0.056974</td>\n",
       "      <td>-0.069376</td>\n",
       "      <td>-0.012128</td>\n",
       "    </tr>\n",
       "    <tr>\n",
       "      <th>A0145698H8AAYMRXLBD8</th>\n",
       "      <td>0.023422</td>\n",
       "      <td>-0.097633</td>\n",
       "      <td>0.823481</td>\n",
       "      <td>-0.012128</td>\n",
       "    </tr>\n",
       "  </tbody>\n",
       "</table>\n",
       "</div>"
      ],
      "text/plain": [
       "                            MNR       RTS        RI       FRN\n",
       "reviewerID                                                   \n",
       "A0002382258OFJJ2UYNTR  0.000166 -0.094574 -0.069376 -0.002605\n",
       "A0010876CNE3ILIM9HV0   0.000166  0.069283 -0.069376 -0.002605\n",
       "A00473363TJ8YSZ3YAGG9  0.023422  0.003709 -0.069376 -0.002605\n",
       "A00593903MCE5GXTAGGNL  0.209469 -0.056974 -0.069376 -0.012128\n",
       "A0145698H8AAYMRXLBD8   0.023422 -0.097633  0.823481 -0.012128"
      ]
     },
     "execution_count": 88,
     "metadata": {},
     "output_type": "execute_result"
    }
   ],
   "source": [
    "reviewer_features_normal.head()"
   ]
  },
  {
   "cell_type": "markdown",
   "metadata": {},
   "source": [
    "### K-means model"
   ]
  },
  {
   "cell_type": "code",
   "execution_count": 95,
   "metadata": {},
   "outputs": [],
   "source": [
    "kmeans = KMeans(n_clusters=2).fit(reviewer_features_normal.values)\n",
    "# Format results as a DataFrame\n",
    "reviewer_features['label_kmeans']=kmeans.labels_"
   ]
  },
  {
   "cell_type": "code",
   "execution_count": 96,
   "metadata": {},
   "outputs": [
    {
     "name": "stdout",
     "output_type": "stream",
     "text": [
      " Number of suspicious reviewer:  4685\n"
     ]
    }
   ],
   "source": [
    "# Show the number of suspicious reviewer\n",
    "print(\" Number of suspicious reviewer: \",reviewer_features.label_kmeans.sum())"
   ]
  },
  {
   "cell_type": "markdown",
   "metadata": {},
   "source": [
    "### Gaussian Mixture Model"
   ]
  },
  {
   "cell_type": "code",
   "execution_count": 97,
   "metadata": {},
   "outputs": [
    {
     "data": {
      "text/plain": [
       "GaussianMixture(covariance_type='full', init_params='kmeans', max_iter=100,\n",
       "        means_init=None, n_components=2, n_init=1, precisions_init=None,\n",
       "        random_state=None, reg_covar=1e-06, tol=0.001, verbose=0,\n",
       "        verbose_interval=10, warm_start=False, weights_init=None)"
      ]
     },
     "execution_count": 97,
     "metadata": {},
     "output_type": "execute_result"
    }
   ],
   "source": [
    "GMM=GaussianMixture(n_components=2)\n",
    "GMM.fit(reviewer_features_normal.values)"
   ]
  },
  {
   "cell_type": "code",
   "execution_count": 98,
   "metadata": {},
   "outputs": [],
   "source": [
    "reviewer_features['label_GMM']=GMM.predict(reviewer_features_normal.values)"
   ]
  },
  {
   "cell_type": "code",
   "execution_count": 99,
   "metadata": {},
   "outputs": [
    {
     "name": "stdout",
     "output_type": "stream",
     "text": [
      " Number of suspicious reviewer:  5831\n"
     ]
    }
   ],
   "source": [
    "# Show the number of suspicious reviewer\n",
    "print(\" Number of suspicious reviewer: \",reviewer_features.label_GMM.sum())"
   ]
  },
  {
   "cell_type": "markdown",
   "metadata": {},
   "source": [
    "<div class=\"alert alert-block alert-warning\">\n",
    "<font color='#B8860B'>\n",
    "<b>Show the Propobility difference of GMM </b><br>\n",
    "</font>\n",
    "<font color='black'>\n",
    "    <br>We try to visualize the histogram for the Difference between the Probabilities of Two Classes \n",
    "</font>\n",
    "</div>"
   ]
  },
  {
   "cell_type": "code",
   "execution_count": 101,
   "metadata": {},
   "outputs": [],
   "source": [
    "#Compute Propobility for two Gaussians\n",
    "GMM_prop=pd.DataFrame(GMM.predict_proba(reviewer_features_normal.values))\n",
    "GMM_prop=GMM_prop.rename(columns={0:\"Normal\",1:\"Sus\"})"
   ]
  },
  {
   "cell_type": "code",
   "execution_count": 102,
   "metadata": {},
   "outputs": [
    {
     "data": {
      "image/png": "[encoded data removed]",
      "text/plain": [
       "<Figure size 432x288 with 1 Axes>"
      ]
     },
     "metadata": {
      "needs_background": "light"
     },
     "output_type": "display_data"
    }
   ],
   "source": [
    "plt.hist(GMM_prop['Sus']-GMM_prop['Normal'])\n",
    "plt.xlabel('Difference')\n",
    "plt.ylabel('Number')\n",
    "plt.title('Histogram for the Difference between the Probabilities of Two Classes')\n",
    "plt.show()"
   ]
  },
  {
   "cell_type": "markdown",
   "metadata": {},
   "source": [
    "<div class=\"alert alert-block alert-warning\">\n",
    "<font color='#B8860B'>\n",
    "<b>The log version</b><br>\n",
    "</font>\n",
    "\n",
    "</div>"
   ]
  },
  {
   "cell_type": "code",
   "execution_count": 103,
   "metadata": {},
   "outputs": [
    {
     "data": {
      "image/png": "[encoded data removed]",
      "text/plain": [
       "<Figure size 432x288 with 1 Axes>"
      ]
     },
     "metadata": {
      "needs_background": "light"
     },
     "output_type": "display_data"
    }
   ],
   "source": [
    "plt.hist(GMM_prop['Sus']-GMM_prop['Normal'],log=True)\n",
    "plt.xlabel('Difference')\n",
    "plt.ylabel('Number')\n",
    "plt.title('Histogram for the Difference(log) between the Probabilities of Two Classes')\n",
    "plt.show()"
   ]
  },
  {
   "cell_type": "markdown",
   "metadata": {},
   "source": [
    "### Compute the intersection bewteen K-means and GMM"
   ]
  },
  {
   "cell_type": "code",
   "execution_count": 153,
   "metadata": {},
   "outputs": [],
   "source": [
    "set_kmeans_1=set(reviewer_features.index[reviewer_features.label_kmeans==1])\n",
    "set_GMM_1=set(reviewer_features.index[reviewer_features.label_GMM==1])"
   ]
  },
  {
   "cell_type": "code",
   "execution_count": 154,
   "metadata": {},
   "outputs": [
    {
     "name": "stdout",
     "output_type": "stream",
     "text": [
      "The intersection of those two models:  4685\n"
     ]
    }
   ],
   "source": [
    "# compute the number of the suspicious users\n",
    "print(\"The intersection of those two models: \",len(set_kmeans_1.intersection(set_GMM_1)))"
   ]
  },
  {
   "cell_type": "markdown",
   "metadata": {},
   "source": [
    "## Clustering by review features"
   ]
  },
  {
   "cell_type": "markdown",
   "metadata": {},
   "source": [
    "### Computing Features: \n",
    "- Review Features:\n",
    " - Review Repetition (RR)\n",
    " - Rating Bias (RB)\n",
    " - Extreme Rating (ER)\n",
    " - Early Post (EP)"
   ]
  },
  {
   "cell_type": "code",
   "execution_count": 104,
   "metadata": {},
   "outputs": [],
   "source": [
    "home_review_features = home_reviews_textVec[['reviewerID','asin','reviewVec','overall','PythonTime']]"
   ]
  },
  {
   "cell_type": "code",
   "execution_count": 105,
   "metadata": {},
   "outputs": [
    {
     "data": {
      "text/html": [
       "<div>\n",
       "<style scoped>\n",
       "    .dataframe tbody tr th:only-of-type {\n",
       "        vertical-align: middle;\n",
       "    }\n",
       "\n",
       "    .dataframe tbody tr th {\n",
       "        vertical-align: top;\n",
       "    }\n",
       "\n",
       "    .dataframe thead th {\n",
       "        text-align: right;\n",
       "    }\n",
       "</style>\n",
       "<table border=\"1\" class=\"dataframe\">\n",
       "  <thead>\n",
       "    <tr style=\"text-align: right;\">\n",
       "      <th></th>\n",
       "      <th>reviewerID</th>\n",
       "      <th>asin</th>\n",
       "      <th>reviewVec</th>\n",
       "      <th>overall</th>\n",
       "      <th>PythonTime</th>\n",
       "    </tr>\n",
       "  </thead>\n",
       "  <tbody>\n",
       "    <tr>\n",
       "      <th>0</th>\n",
       "      <td>APYOBQE6M18AA</td>\n",
       "      <td>0615391206</td>\n",
       "      <td>[0.14266632, 0.040547352, 0.78923875, 1.961626...</td>\n",
       "      <td>5.0</td>\n",
       "      <td>2013-10-19</td>\n",
       "    </tr>\n",
       "    <tr>\n",
       "      <th>1</th>\n",
       "      <td>A1JVQTAGHYOL7F</td>\n",
       "      <td>0615391206</td>\n",
       "      <td>[0.42623562, 0.28558293, 1.0666791, 1.1686757,...</td>\n",
       "      <td>5.0</td>\n",
       "      <td>2014-06-18</td>\n",
       "    </tr>\n",
       "    <tr>\n",
       "      <th>2</th>\n",
       "      <td>A3UPYGJKZ0XTU4</td>\n",
       "      <td>0615391206</td>\n",
       "      <td>[0.33166683, 0.3857316, 0.13150564, 0.8163318,...</td>\n",
       "      <td>4.0</td>\n",
       "      <td>2013-05-05</td>\n",
       "    </tr>\n",
       "    <tr>\n",
       "      <th>3</th>\n",
       "      <td>A2MHCTX43MIMDZ</td>\n",
       "      <td>0615391206</td>\n",
       "      <td>[0.12381068, -0.17305964, 0.49680334, 1.404797...</td>\n",
       "      <td>5.0</td>\n",
       "      <td>2011-08-04</td>\n",
       "    </tr>\n",
       "    <tr>\n",
       "      <th>4</th>\n",
       "      <td>AHAI85T5C2DH3</td>\n",
       "      <td>0615391206</td>\n",
       "      <td>[0.14035076, -0.090854086, 0.57210714, 1.25145...</td>\n",
       "      <td>4.0</td>\n",
       "      <td>2014-06-07</td>\n",
       "    </tr>\n",
       "  </tbody>\n",
       "</table>\n",
       "</div>"
      ],
      "text/plain": [
       "       reviewerID        asin  \\\n",
       "0   APYOBQE6M18AA  0615391206   \n",
       "1  A1JVQTAGHYOL7F  0615391206   \n",
       "2  A3UPYGJKZ0XTU4  0615391206   \n",
       "3  A2MHCTX43MIMDZ  0615391206   \n",
       "4   AHAI85T5C2DH3  0615391206   \n",
       "\n",
       "                                           reviewVec  overall  PythonTime  \n",
       "0  [0.14266632, 0.040547352, 0.78923875, 1.961626...      5.0  2013-10-19  \n",
       "1  [0.42623562, 0.28558293, 1.0666791, 1.1686757,...      5.0  2014-06-18  \n",
       "2  [0.33166683, 0.3857316, 0.13150564, 0.8163318,...      4.0  2013-05-05  \n",
       "3  [0.12381068, -0.17305964, 0.49680334, 1.404797...      5.0  2011-08-04  \n",
       "4  [0.14035076, -0.090854086, 0.57210714, 1.25145...      4.0  2014-06-07  "
      ]
     },
     "execution_count": 105,
     "metadata": {},
     "output_type": "execute_result"
    }
   ],
   "source": [
    "home_review_features.head()"
   ]
  },
  {
   "cell_type": "code",
   "execution_count": 106,
   "metadata": {},
   "outputs": [],
   "source": [
    "# define a function to compute the confidence interval of the rating distribution\n",
    "def confidence_interval(ratings, level):\n",
    "    lower_q = (1-level)/2\n",
    "    return ratings.groupby('asin').apply(lambda x: [x.overall.quantile(lower_q),x.overall.quantile(1-lower_q)])\n",
    "\n",
    "# define a function to initially label the suspicious reviewers\n",
    "# This returns the Rating Bias feature\n",
    "def inspect_review(df, level):\n",
    "    df_ci = confidence_interval(df, level)\n",
    "    df_ci = pd.DataFrame(df_ci).reset_index()\n",
    "    df_ci.columns = ['asin','ci']\n",
    "    df_ci = df.merge(df_ci, left_on='asin', right_on='asin')\n",
    "    \n",
    "    # the reviews whose rate is out of the confidence interval were regarded as suspicious and labeled 1, otherwise labeled 0\n",
    "    df_ci['RB'] = df_ci.apply(lambda x: 0 if x.overall>=x.ci[0] and x.overall<=x.ci[1] else 1, axis=1)\n",
    "    \n",
    "    return df_ci.drop(columns=['ci'])\n",
    "\n",
    "# Compute review repetition\n",
    "def compute_rr(bag):\n",
    "    sim = []\n",
    "    text = bag.reviewVec\n",
    "    # calculate the maximum distance between two reviews belonging to the same product\n",
    "    for i in text:\n",
    "        init = 0\n",
    "        for j in text:\n",
    "            if np.all(i==j):\n",
    "                continue\n",
    "            else:\n",
    "                init = np.maximum(1-distance.cosine(i,j), init)\n",
    "                # threshold\n",
    "                if init >= 0.9:\n",
    "                    break\n",
    "        if init >= 0.9:\n",
    "            sim.append(1)\n",
    "        else:\n",
    "            sim.append(0)\n",
    "    return pd.DataFrame({'reviewerID':bag.reviewerID,\n",
    "                         'asin':bag.asin,\n",
    "                         'RR':sim})\n",
    "\n",
    "# Compute Early post feature\n",
    "def compute_ep(bag):\n",
    "    # suspect if a review comes to early\n",
    "    time = bag.PythonTime\n",
    "    etf = []\n",
    "    for i in time:\n",
    "        if i == min(time):\n",
    "            etf.append(1)\n",
    "        else:\n",
    "            etf.append(0)\n",
    "    return pd.DataFrame({'reviewerID':bag.reviewerID,\n",
    "                         'asin':bag.asin,\n",
    "                         'EP':etf})\n"
   ]
  },
  {
   "cell_type": "code",
   "execution_count": 107,
   "metadata": {},
   "outputs": [],
   "source": [
    "# Generate all features for reviews\n",
    "def review_feature(df, level):\n",
    "    #compute review repetition\n",
    "    sim = df.groupby('asin').apply(compute_rr)\n",
    "    sim = sim.set_index(['reviewerID','asin'])\n",
    "    \n",
    "    #compute early post\n",
    "    etf = df.groupby('asin').apply(compute_ep)\n",
    "    etf = etf.set_index(['reviewerID','asin'])\n",
    "    \n",
    "    #decide the rating bias\n",
    "    df = inspect_review(df, level)\n",
    "    \n",
    "    #generate extreme rating feature\n",
    "    df['ER'] = df.overall.apply(lambda x: 1 if x==5 or x==1 else 0)\n",
    "    \n",
    "    df_index = df.set_index(['reviewerID','asin'])\n",
    "    df_index = df_index.merge(sim, left_index=True, right_index=True)\n",
    "    df_index = df_index.merge(etf, left_index=True, right_index=True)\n",
    "    \n",
    "    return df_index.reset_index()\n"
   ]
  },
  {
   "cell_type": "code",
   "execution_count": 108,
   "metadata": {},
   "outputs": [
    {
     "data": {
      "text/html": [
       "<div>\n",
       "<style scoped>\n",
       "    .dataframe tbody tr th:only-of-type {\n",
       "        vertical-align: middle;\n",
       "    }\n",
       "\n",
       "    .dataframe tbody tr th {\n",
       "        vertical-align: top;\n",
       "    }\n",
       "\n",
       "    .dataframe thead th {\n",
       "        text-align: right;\n",
       "    }\n",
       "</style>\n",
       "<table border=\"1\" class=\"dataframe\">\n",
       "  <thead>\n",
       "    <tr style=\"text-align: right;\">\n",
       "      <th></th>\n",
       "      <th>reviewerID</th>\n",
       "      <th>asin</th>\n",
       "      <th>reviewVec</th>\n",
       "      <th>overall</th>\n",
       "      <th>PythonTime</th>\n",
       "      <th>RB</th>\n",
       "      <th>ER</th>\n",
       "      <th>RR</th>\n",
       "      <th>EP</th>\n",
       "    </tr>\n",
       "  </thead>\n",
       "  <tbody>\n",
       "    <tr>\n",
       "      <th>0</th>\n",
       "      <td>APYOBQE6M18AA</td>\n",
       "      <td>0615391206</td>\n",
       "      <td>[0.14266632, 0.040547352, 0.78923875, 1.961626...</td>\n",
       "      <td>5.0</td>\n",
       "      <td>2013-10-19</td>\n",
       "      <td>0</td>\n",
       "      <td>1</td>\n",
       "      <td>0</td>\n",
       "      <td>0</td>\n",
       "    </tr>\n",
       "    <tr>\n",
       "      <th>1</th>\n",
       "      <td>A1JVQTAGHYOL7F</td>\n",
       "      <td>0615391206</td>\n",
       "      <td>[0.42623562, 0.28558293, 1.0666791, 1.1686757,...</td>\n",
       "      <td>5.0</td>\n",
       "      <td>2014-06-18</td>\n",
       "      <td>0</td>\n",
       "      <td>1</td>\n",
       "      <td>0</td>\n",
       "      <td>0</td>\n",
       "    </tr>\n",
       "    <tr>\n",
       "      <th>2</th>\n",
       "      <td>A3UPYGJKZ0XTU4</td>\n",
       "      <td>0615391206</td>\n",
       "      <td>[0.33166683, 0.3857316, 0.13150564, 0.8163318,...</td>\n",
       "      <td>4.0</td>\n",
       "      <td>2013-05-05</td>\n",
       "      <td>0</td>\n",
       "      <td>0</td>\n",
       "      <td>0</td>\n",
       "      <td>0</td>\n",
       "    </tr>\n",
       "    <tr>\n",
       "      <th>3</th>\n",
       "      <td>A2MHCTX43MIMDZ</td>\n",
       "      <td>0615391206</td>\n",
       "      <td>[0.12381068, -0.17305964, 0.49680334, 1.404797...</td>\n",
       "      <td>5.0</td>\n",
       "      <td>2011-08-04</td>\n",
       "      <td>0</td>\n",
       "      <td>1</td>\n",
       "      <td>1</td>\n",
       "      <td>1</td>\n",
       "    </tr>\n",
       "    <tr>\n",
       "      <th>4</th>\n",
       "      <td>AHAI85T5C2DH3</td>\n",
       "      <td>0615391206</td>\n",
       "      <td>[0.14035076, -0.090854086, 0.57210714, 1.25145...</td>\n",
       "      <td>4.0</td>\n",
       "      <td>2014-06-07</td>\n",
       "      <td>0</td>\n",
       "      <td>0</td>\n",
       "      <td>1</td>\n",
       "      <td>0</td>\n",
       "    </tr>\n",
       "  </tbody>\n",
       "</table>\n",
       "</div>"
      ],
      "text/plain": [
       "       reviewerID        asin  \\\n",
       "0   APYOBQE6M18AA  0615391206   \n",
       "1  A1JVQTAGHYOL7F  0615391206   \n",
       "2  A3UPYGJKZ0XTU4  0615391206   \n",
       "3  A2MHCTX43MIMDZ  0615391206   \n",
       "4   AHAI85T5C2DH3  0615391206   \n",
       "\n",
       "                                           reviewVec  overall  PythonTime  RB  \\\n",
       "0  [0.14266632, 0.040547352, 0.78923875, 1.961626...      5.0  2013-10-19   0   \n",
       "1  [0.42623562, 0.28558293, 1.0666791, 1.1686757,...      5.0  2014-06-18   0   \n",
       "2  [0.33166683, 0.3857316, 0.13150564, 0.8163318,...      4.0  2013-05-05   0   \n",
       "3  [0.12381068, -0.17305964, 0.49680334, 1.404797...      5.0  2011-08-04   0   \n",
       "4  [0.14035076, -0.090854086, 0.57210714, 1.25145...      4.0  2014-06-07   0   \n",
       "\n",
       "   ER  RR  EP  \n",
       "0   1   0   0  \n",
       "1   1   0   0  \n",
       "2   0   0   0  \n",
       "3   1   1   1  \n",
       "4   0   1   0  "
      ]
     },
     "execution_count": 108,
     "metadata": {},
     "output_type": "execute_result"
    }
   ],
   "source": [
    "home_review_features=review_feature(home_review_features,0.8)\n",
    "pickle.dump(home_review_features,open('home_review_features.pkl','wb'))\n",
    "home_review_features=pickle.load(open('home_review_features.pkl','rb'))\n",
    "home_review_features.head()"
   ]
  },
  {
   "cell_type": "code",
   "execution_count": 109,
   "metadata": {},
   "outputs": [],
   "source": [
    "home_review_features.drop(columns=['reviewVec','overall','PythonTime'],inplace=True)"
   ]
  },
  {
   "cell_type": "code",
   "execution_count": 110,
   "metadata": {},
   "outputs": [],
   "source": [
    "home_review_features.set_index(['reviewerID','asin'],inplace=True)"
   ]
  },
  {
   "cell_type": "code",
   "execution_count": 117,
   "metadata": {},
   "outputs": [
    {
     "data": {
      "text/html": [
       "<div>\n",
       "<style scoped>\n",
       "    .dataframe tbody tr th:only-of-type {\n",
       "        vertical-align: middle;\n",
       "    }\n",
       "\n",
       "    .dataframe tbody tr th {\n",
       "        vertical-align: top;\n",
       "    }\n",
       "\n",
       "    .dataframe thead th {\n",
       "        text-align: right;\n",
       "    }\n",
       "</style>\n",
       "<table border=\"1\" class=\"dataframe\">\n",
       "  <thead>\n",
       "    <tr style=\"text-align: right;\">\n",
       "      <th></th>\n",
       "      <th></th>\n",
       "      <th>RB</th>\n",
       "      <th>ER</th>\n",
       "      <th>RR</th>\n",
       "      <th>EP</th>\n",
       "      <th>label_kmeans</th>\n",
       "    </tr>\n",
       "    <tr>\n",
       "      <th>reviewerID</th>\n",
       "      <th>asin</th>\n",
       "      <th></th>\n",
       "      <th></th>\n",
       "      <th></th>\n",
       "      <th></th>\n",
       "      <th></th>\n",
       "    </tr>\n",
       "  </thead>\n",
       "  <tbody>\n",
       "    <tr>\n",
       "      <th>APYOBQE6M18AA</th>\n",
       "      <th>0615391206</th>\n",
       "      <td>0</td>\n",
       "      <td>1</td>\n",
       "      <td>0</td>\n",
       "      <td>0</td>\n",
       "      <td>0</td>\n",
       "    </tr>\n",
       "    <tr>\n",
       "      <th>A1JVQTAGHYOL7F</th>\n",
       "      <th>0615391206</th>\n",
       "      <td>0</td>\n",
       "      <td>1</td>\n",
       "      <td>0</td>\n",
       "      <td>0</td>\n",
       "      <td>0</td>\n",
       "    </tr>\n",
       "    <tr>\n",
       "      <th>A3UPYGJKZ0XTU4</th>\n",
       "      <th>0615391206</th>\n",
       "      <td>0</td>\n",
       "      <td>0</td>\n",
       "      <td>0</td>\n",
       "      <td>0</td>\n",
       "      <td>0</td>\n",
       "    </tr>\n",
       "    <tr>\n",
       "      <th>A2MHCTX43MIMDZ</th>\n",
       "      <th>0615391206</th>\n",
       "      <td>0</td>\n",
       "      <td>1</td>\n",
       "      <td>1</td>\n",
       "      <td>1</td>\n",
       "      <td>1</td>\n",
       "    </tr>\n",
       "    <tr>\n",
       "      <th>AHAI85T5C2DH3</th>\n",
       "      <th>0615391206</th>\n",
       "      <td>0</td>\n",
       "      <td>0</td>\n",
       "      <td>1</td>\n",
       "      <td>0</td>\n",
       "      <td>1</td>\n",
       "    </tr>\n",
       "  </tbody>\n",
       "</table>\n",
       "</div>"
      ],
      "text/plain": [
       "                           RB  ER  RR  EP  label_kmeans\n",
       "reviewerID     asin                                    \n",
       "APYOBQE6M18AA  0615391206   0   1   0   0             0\n",
       "A1JVQTAGHYOL7F 0615391206   0   1   0   0             0\n",
       "A3UPYGJKZ0XTU4 0615391206   0   0   0   0             0\n",
       "A2MHCTX43MIMDZ 0615391206   0   1   1   1             1\n",
       "AHAI85T5C2DH3  0615391206   0   0   1   0             1"
      ]
     },
     "execution_count": 117,
     "metadata": {},
     "output_type": "execute_result"
    }
   ],
   "source": [
    "home_review_features.head()"
   ]
  },
  {
   "cell_type": "markdown",
   "metadata": {},
   "source": [
    "### Clustering of the fake reviews and non-fake reviews"
   ]
  },
  {
   "cell_type": "markdown",
   "metadata": {},
   "source": [
    "## K-means model"
   ]
  },
  {
   "cell_type": "code",
   "execution_count": 112,
   "metadata": {},
   "outputs": [],
   "source": [
    "kmeans_review = KMeans(n_clusters=2).fit(home_review_features.values)\n",
    "# Format results as a DataFrame\n",
    "home_review_features['label_kmeans']=kmeans_review.labels_"
   ]
  },
  {
   "cell_type": "code",
   "execution_count": 115,
   "metadata": {},
   "outputs": [
    {
     "name": "stdout",
     "output_type": "stream",
     "text": [
      "Fake reviews:  213590\n"
     ]
    }
   ],
   "source": [
    "print('Fake reviews: ',min(home_review_features.label_kmeans.sum(),\n",
    "             (len(home_review_features)-home_review_features.label_kmeans.sum())))"
   ]
  },
  {
   "cell_type": "markdown",
   "metadata": {},
   "source": [
    "### Gaussian Mixture Model"
   ]
  },
  {
   "cell_type": "code",
   "execution_count": 118,
   "metadata": {},
   "outputs": [
    {
     "data": {
      "text/plain": [
       "GaussianMixture(covariance_type='full', init_params='kmeans', max_iter=100,\n",
       "        means_init=None, n_components=2, n_init=1, precisions_init=None,\n",
       "        random_state=None, reg_covar=1e-06, tol=0.001, verbose=0,\n",
       "        verbose_interval=10, warm_start=False, weights_init=None)"
      ]
     },
     "execution_count": 118,
     "metadata": {},
     "output_type": "execute_result"
    }
   ],
   "source": [
    "GMM_review=GaussianMixture(n_components=2)\n",
    "GMM_review.fit(home_review_features.drop(columns=['label_kmeans']).values)"
   ]
  },
  {
   "cell_type": "code",
   "execution_count": 119,
   "metadata": {},
   "outputs": [],
   "source": [
    "home_review_features['label_GMM']=GMM.predict(home_review_features.drop(columns=['label_kmeans']).values)"
   ]
  },
  {
   "cell_type": "code",
   "execution_count": 120,
   "metadata": {},
   "outputs": [
    {
     "name": "stdout",
     "output_type": "stream",
     "text": [
      "Fake reviews:  11415\n"
     ]
    }
   ],
   "source": [
    "print('Fake reviews: ',min(home_review_features.label_GMM.sum(),\n",
    "             (len(home_review_features)-home_review_features.label_GMM.sum())))"
   ]
  },
  {
   "cell_type": "code",
   "execution_count": 129,
   "metadata": {},
   "outputs": [
    {
     "data": {
      "text/html": [
       "<div>\n",
       "<style scoped>\n",
       "    .dataframe tbody tr th:only-of-type {\n",
       "        vertical-align: middle;\n",
       "    }\n",
       "\n",
       "    .dataframe tbody tr th {\n",
       "        vertical-align: top;\n",
       "    }\n",
       "\n",
       "    .dataframe thead th {\n",
       "        text-align: right;\n",
       "    }\n",
       "</style>\n",
       "<table border=\"1\" class=\"dataframe\">\n",
       "  <thead>\n",
       "    <tr style=\"text-align: right;\">\n",
       "      <th></th>\n",
       "      <th>reviewerID</th>\n",
       "      <th>asin</th>\n",
       "      <th>RB</th>\n",
       "      <th>ER</th>\n",
       "      <th>RR</th>\n",
       "      <th>EP</th>\n",
       "      <th>label_kmeans</th>\n",
       "      <th>label_GMM</th>\n",
       "    </tr>\n",
       "  </thead>\n",
       "  <tbody>\n",
       "    <tr>\n",
       "      <th>0</th>\n",
       "      <td>APYOBQE6M18AA</td>\n",
       "      <td>0615391206</td>\n",
       "      <td>0</td>\n",
       "      <td>1</td>\n",
       "      <td>0</td>\n",
       "      <td>0</td>\n",
       "      <td>0</td>\n",
       "      <td>1</td>\n",
       "    </tr>\n",
       "    <tr>\n",
       "      <th>1</th>\n",
       "      <td>A1JVQTAGHYOL7F</td>\n",
       "      <td>0615391206</td>\n",
       "      <td>0</td>\n",
       "      <td>1</td>\n",
       "      <td>0</td>\n",
       "      <td>0</td>\n",
       "      <td>0</td>\n",
       "      <td>1</td>\n",
       "    </tr>\n",
       "    <tr>\n",
       "      <th>2</th>\n",
       "      <td>A3UPYGJKZ0XTU4</td>\n",
       "      <td>0615391206</td>\n",
       "      <td>0</td>\n",
       "      <td>0</td>\n",
       "      <td>0</td>\n",
       "      <td>0</td>\n",
       "      <td>0</td>\n",
       "      <td>1</td>\n",
       "    </tr>\n",
       "    <tr>\n",
       "      <th>3</th>\n",
       "      <td>A2MHCTX43MIMDZ</td>\n",
       "      <td>0615391206</td>\n",
       "      <td>0</td>\n",
       "      <td>1</td>\n",
       "      <td>1</td>\n",
       "      <td>1</td>\n",
       "      <td>1</td>\n",
       "      <td>1</td>\n",
       "    </tr>\n",
       "    <tr>\n",
       "      <th>4</th>\n",
       "      <td>AHAI85T5C2DH3</td>\n",
       "      <td>0615391206</td>\n",
       "      <td>0</td>\n",
       "      <td>0</td>\n",
       "      <td>1</td>\n",
       "      <td>0</td>\n",
       "      <td>1</td>\n",
       "      <td>1</td>\n",
       "    </tr>\n",
       "  </tbody>\n",
       "</table>\n",
       "</div>"
      ],
      "text/plain": [
       "       reviewerID        asin  RB  ER  RR  EP  label_kmeans  label_GMM\n",
       "0   APYOBQE6M18AA  0615391206   0   1   0   0             0          1\n",
       "1  A1JVQTAGHYOL7F  0615391206   0   1   0   0             0          1\n",
       "2  A3UPYGJKZ0XTU4  0615391206   0   0   0   0             0          1\n",
       "3  A2MHCTX43MIMDZ  0615391206   0   1   1   1             1          1\n",
       "4   AHAI85T5C2DH3  0615391206   0   0   1   0             1          1"
      ]
     },
     "execution_count": 129,
     "metadata": {},
     "output_type": "execute_result"
    }
   ],
   "source": [
    "home_review_features.reset_index()\n",
    "home_review_features.head()"
   ]
  },
  {
   "cell_type": "markdown",
   "metadata": {},
   "source": [
    "<div class=\"alert alert-block alert-warning\">\n",
    "<font color='#B8860B'>\n",
    "<b>Compute fake reviewers through fake reviews </b><br>\n",
    "</font>\n",
    "<font color='black'>\n",
    "    <br>We compute the fake reviewers by detected fake reviews. Intuitive idea: those who wrote many fake reviews are suspicious reviews. Therefore, we compute for one user: the ratio of fake reviews and all reviews the user wrote. If 80% reviews are fake then we think this user is a spam. 80% here is refer to suspicious ratio(sus_ratio) of a user.\n",
    "</font>\n",
    "</div>"
   ]
  },
  {
   "cell_type": "code",
   "execution_count": 134,
   "metadata": {},
   "outputs": [],
   "source": [
    "#Compute sus_ratio for kmeans and GMM\n",
    "home_sus_ratio=pd.DataFrame(home_review_features.groupby(by=['reviewerID']).label_kmeans.sum())\n",
    "home_sus_ratio['label_GMM']=pd.DataFrame(home_review_features.groupby(by=['reviewerID']).label_GMM.sum())\n",
    "home_sus_ratio['sus_ratio_kmeans']=home_sus_ratio['label_kmeans']/home_review_features.groupby(by=['reviewerID']).label_kmeans.count()\n",
    "home_sus_ratio['sus_ratio_GMM']=(1-(home_sus_ratio['label_GMM']/home_review_features.groupby(by=['reviewerID']).label_GMM.count()))"
   ]
  },
  {
   "cell_type": "code",
   "execution_count": 157,
   "metadata": {},
   "outputs": [
    {
     "data": {
      "text/html": [
       "<div>\n",
       "<style scoped>\n",
       "    .dataframe tbody tr th:only-of-type {\n",
       "        vertical-align: middle;\n",
       "    }\n",
       "\n",
       "    .dataframe tbody tr th {\n",
       "        vertical-align: top;\n",
       "    }\n",
       "\n",
       "    .dataframe thead th {\n",
       "        text-align: right;\n",
       "    }\n",
       "</style>\n",
       "<table border=\"1\" class=\"dataframe\">\n",
       "  <thead>\n",
       "    <tr style=\"text-align: right;\">\n",
       "      <th></th>\n",
       "      <th>label_kmeans</th>\n",
       "      <th>sus_ratio_kmeans</th>\n",
       "      <th>label_GMM</th>\n",
       "      <th>sus_ratio_GMM</th>\n",
       "    </tr>\n",
       "    <tr>\n",
       "      <th>reviewerID</th>\n",
       "      <th></th>\n",
       "      <th></th>\n",
       "      <th></th>\n",
       "      <th></th>\n",
       "    </tr>\n",
       "  </thead>\n",
       "  <tbody>\n",
       "    <tr>\n",
       "      <th>A0002382258OFJJ2UYNTR</th>\n",
       "      <td>0</td>\n",
       "      <td>0.000000</td>\n",
       "      <td>5</td>\n",
       "      <td>0.0</td>\n",
       "    </tr>\n",
       "    <tr>\n",
       "      <th>A0010876CNE3ILIM9HV0</th>\n",
       "      <td>4</td>\n",
       "      <td>0.571429</td>\n",
       "      <td>7</td>\n",
       "      <td>0.0</td>\n",
       "    </tr>\n",
       "    <tr>\n",
       "      <th>A00473363TJ8YSZ3YAGG9</th>\n",
       "      <td>7</td>\n",
       "      <td>0.583333</td>\n",
       "      <td>12</td>\n",
       "      <td>0.0</td>\n",
       "    </tr>\n",
       "    <tr>\n",
       "      <th>A00593903MCE5GXTAGGNL</th>\n",
       "      <td>0</td>\n",
       "      <td>0.000000</td>\n",
       "      <td>14</td>\n",
       "      <td>0.0</td>\n",
       "    </tr>\n",
       "    <tr>\n",
       "      <th>A0145698H8AAYMRXLBD8</th>\n",
       "      <td>1</td>\n",
       "      <td>0.200000</td>\n",
       "      <td>5</td>\n",
       "      <td>0.0</td>\n",
       "    </tr>\n",
       "  </tbody>\n",
       "</table>\n",
       "</div>"
      ],
      "text/plain": [
       "                       label_kmeans  sus_ratio_kmeans  label_GMM  \\\n",
       "reviewerID                                                         \n",
       "A0002382258OFJJ2UYNTR             0          0.000000          5   \n",
       "A0010876CNE3ILIM9HV0              4          0.571429          7   \n",
       "A00473363TJ8YSZ3YAGG9             7          0.583333         12   \n",
       "A00593903MCE5GXTAGGNL             0          0.000000         14   \n",
       "A0145698H8AAYMRXLBD8              1          0.200000          5   \n",
       "\n",
       "                       sus_ratio_GMM  \n",
       "reviewerID                            \n",
       "A0002382258OFJJ2UYNTR            0.0  \n",
       "A0010876CNE3ILIM9HV0             0.0  \n",
       "A00473363TJ8YSZ3YAGG9            0.0  \n",
       "A00593903MCE5GXTAGGNL            0.0  \n",
       "A0145698H8AAYMRXLBD8             0.0  "
      ]
     },
     "execution_count": 157,
     "metadata": {},
     "output_type": "execute_result"
    }
   ],
   "source": [
    "home_sus_ratio.head()"
   ]
  },
  {
   "cell_type": "code",
   "execution_count": 177,
   "metadata": {},
   "outputs": [],
   "source": [
    "#Compute fake reviews list\n",
    "set_kmeans_2=set(home_sus_ratio.index[home_sus_ratio.sus_ratio_kmeans>0.8])\n",
    "set_GMM_2=set(home_sus_ratio.index[home_sus_ratio.sus_ratio_GMM>0.8])"
   ]
  },
  {
   "cell_type": "code",
   "execution_count": 178,
   "metadata": {},
   "outputs": [
    {
     "name": "stdout",
     "output_type": "stream",
     "text": [
      "The number of fake reviewers by k-means 16671\n",
      "The number of fake reviewers by GMM 1\n"
     ]
    }
   ],
   "source": [
    "print('The number of fake reviewers by k-means',len(set_kmeans_2))\n",
    "print('The number of fake reviewers by GMM',len(set_GMM_2))"
   ]
  },
  {
   "cell_type": "code",
   "execution_count": 166,
   "metadata": {},
   "outputs": [
    {
     "name": "stdout",
     "output_type": "stream",
     "text": [
      "The intersection of those two models:  0\n"
     ]
    }
   ],
   "source": [
    "# compute the number of the suspicious users\n",
    "print(\"The intersection of those two models: \",len(set_kmeans_2.intersection(set_GMM_2)))"
   ]
  },
  {
   "cell_type": "markdown",
   "metadata": {},
   "source": [
    "<div class=\"alert alert-block alert-warning\">\n",
    "<font color='#B8860B'>\n",
    "<b>Why GMM fail in second case </b><br>\n",
    "</font>\n",
    "<font color='black'>\n",
    "    <br>In second clustering, we cluster the reviews by kmeans and GMM. But the review features we design is binary features. Therefore,GMM models may not fit for these data. We only consider K-means for review clustering\n",
    "</font>\n",
    "</div>"
   ]
  },
  {
   "cell_type": "markdown",
   "metadata": {},
   "source": [
    "## Compute the intersection of clustering by reviewers and clustering by reviews"
   ]
  },
  {
   "cell_type": "code",
   "execution_count": 167,
   "metadata": {},
   "outputs": [
    {
     "name": "stdout",
     "output_type": "stream",
     "text": [
      "The intersection between clustering by reviewers and clustering by reviews:  522\n"
     ]
    }
   ],
   "source": [
    "print(\"The intersection between clustering by reviewers and clustering by reviews: \",\n",
    "     len(set_kmeans_1.intersection(set_kmeans_2)))"
   ]
  },
  {
   "cell_type": "code",
   "execution_count": 172,
   "metadata": {},
   "outputs": [
    {
     "data": {
      "image/png": "[encoded data removed]",
      "text/plain": [
       "<Figure size 432x288 with 1 Axes>"
      ]
     },
     "metadata": {},
     "output_type": "display_data"
    }
   ],
   "source": [
    "labels = 'Fake_reviewer_by_first_cluster','intersection'\n",
    "sizes = [4680,522]\n",
    "explode = (0, 0.1)  # only \"explode\" the 2nd slice (i.e. 'Hogs')\n",
    "\n",
    "fig1, ax1 = plt.subplots()\n",
    "ax1.pie(sizes, explode=explode, labels=labels, autopct='%1.1f%%',\n",
    "        shadow=True, startangle=90)\n",
    "ax1.axis('equal')  # Equal aspect ratio ensures that pie is drawn as a circle.\n",
    "\n",
    "plt.show()"
   ]
  },
  {
   "cell_type": "markdown",
   "metadata": {},
   "source": [
    "<div class=\"alert alert-block alert-warning\">\n",
    "<font color='#B8860B'>\n",
    "<b>Observation </b><br>\n",
    "</font>\n",
    "<font color='black'>\n",
    "    <br> We calculate the intersection of two lists. There are $522$ users discovered by two clustering methods in common, and the percentage of overlapping between two lists is around $10.1\\%$.\n",
    "</font>\n",
    "</div>"
   ]
  },
  {
   "cell_type": "code",
   "execution_count": 173,
   "metadata": {},
   "outputs": [
    {
     "data": {
      "text/plain": [
       "Text(0.5,1,'Histogram of Percentage of Fake Reviews for Reviewers')"
      ]
     },
     "execution_count": 173,
     "metadata": {},
     "output_type": "execute_result"
    },
    {
     "data": {
      "image/png": "[encoded data removed]",
      "text/plain": [
       "<Figure size 432x288 with 1 Axes>"
      ]
     },
     "metadata": {},
     "output_type": "display_data"
    }
   ],
   "source": [
    "#Draw a histogram about Histogram of Percentage of Fake Reviews for Reviewers\n",
    "plt.hist(home_sus_ratio['sus_ratio_kmeans'],bins=30)\n",
    "plt.xlabel('Percentage')\n",
    "plt.ylabel('Number')\n",
    "plt.title('Histogram of Percentage of Fake Reviews for Reviewers')"
   ]
  },
  {
   "cell_type": "markdown",
   "metadata": {},
   "source": [
    "<div class=\"alert alert-block alert-warning\">\n",
    "<font color='#B8860B'>\n",
    "<b>Observation </b><br>\n",
    "</font>\n",
    "<font color='black'>\n",
    "    <br> We find that the proportion of users with at least one detected fake review is huge: $94.6\\%$. Intuitively, the ideal histogram of the percentage of the fake reviews for reviewers should be descending as the percentage goes from $0$ to $1$. However, contradictory figure implies that the clustering of reviews is unconvincing.\n",
    "</font>\n",
    "</div>"
   ]
  }
 ],
 "metadata": {
  "kernelspec": {
   "display_name": "Python 3",
   "language": "python",
   "name": "python3"
  },
  "language_info": {
   "codemirror_mode": {
    "name": "ipython",
    "version": 3
   },
   "file_extension": ".py",
   "mimetype": "text/x-python",
   "name": "python",
   "nbconvert_exporter": "python",
   "pygments_lexer": "ipython3",
   "version": "3.6.5"
  }
 },
 "nbformat": 4,
 "nbformat_minor": 2
}
